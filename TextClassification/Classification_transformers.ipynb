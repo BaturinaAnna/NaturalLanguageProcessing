{
  "nbformat": 4,
  "nbformat_minor": 0,
  "metadata": {
    "colab": {
      "name": "Classification_transformers.ipynb",
      "provenance": [],
      "collapsed_sections": []
    },
    "kernelspec": {
      "display_name": "Python 3",
      "name": "python3"
    },
    "language_info": {
      "name": "python"
    }
  },
  "cells": [
    {
      "cell_type": "code",
      "metadata": {
        "id": "zcks1T34hh3L"
      },
      "source": [
        "import tensorflow as tf\n",
        "from tensorflow import keras\n",
        "from tensorflow.keras import layers\n",
        "import matplotlib.pyplot as plt"
      ],
      "execution_count": 1,
      "outputs": []
    },
    {
      "cell_type": "code",
      "metadata": {
        "id": "TAHMn96rhpMf"
      },
      "source": [
        "class TransformerBlock(layers.Layer):\n",
        "    def __init__(self, embed_dim, num_heads, ff_dim, rate=0.1):\n",
        "        super(TransformerBlock, self).__init__()\n",
        "        self.att = layers.MultiHeadAttention(num_heads=num_heads, key_dim=embed_dim)\n",
        "        self.ffn = keras.Sequential(\n",
        "            [layers.Dense(ff_dim, activation=\"relu\"), layers.Dense(embed_dim),]\n",
        "        )\n",
        "        self.layernorm1 = layers.LayerNormalization(epsilon=1e-6)\n",
        "        self.layernorm2 = layers.LayerNormalization(epsilon=1e-6)\n",
        "        self.dropout1 = layers.Dropout(rate)\n",
        "        self.dropout2 = layers.Dropout(rate)\n",
        "\n",
        "    def call(self, inputs, training):\n",
        "        attn_output = self.att(inputs, inputs)\n",
        "        attn_output = self.dropout1(attn_output, training=training)\n",
        "        out1 = self.layernorm1(inputs + attn_output)\n",
        "        ffn_output = self.ffn(out1)\n",
        "        ffn_output = self.dropout2(ffn_output, training=training)\n",
        "        return self.layernorm2(out1 + ffn_output)\n"
      ],
      "execution_count": 2,
      "outputs": []
    },
    {
      "cell_type": "code",
      "metadata": {
        "id": "zSlrmQKQhsN8"
      },
      "source": [
        "class TokenAndPositionEmbedding(layers.Layer):\n",
        "    def __init__(self, maxlen, vocab_size, embed_dim):\n",
        "        super(TokenAndPositionEmbedding, self).__init__()\n",
        "        self.token_emb = layers.Embedding(input_dim=vocab_size, output_dim=embed_dim)\n",
        "        self.pos_emb = layers.Embedding(input_dim=maxlen, output_dim=embed_dim)\n",
        "\n",
        "    def call(self, x):\n",
        "        maxlen = tf.shape(x)[-1]\n",
        "        positions = tf.range(start=0, limit=maxlen, delta=1)\n",
        "        positions = self.pos_emb(positions)\n",
        "        x = self.token_emb(x)\n",
        "        return x + positions"
      ],
      "execution_count": 3,
      "outputs": []
    },
    {
      "cell_type": "code",
      "metadata": {
        "id": "IVTvGJj-n4yF"
      },
      "source": [
        "import pandas as pd"
      ],
      "execution_count": 4,
      "outputs": []
    },
    {
      "cell_type": "code",
      "metadata": {
        "colab": {
          "base_uri": "https://localhost:8080/"
        },
        "id": "GjZxZ9_7n5up",
        "outputId": "4c6106a5-1457-4093-c9bc-2e037708c94f"
      },
      "source": [
        "from google.colab import drive\n",
        "drive.mount(\"/content/drive\")"
      ],
      "execution_count": 7,
      "outputs": [
        {
          "output_type": "stream",
          "text": [
            "Mounted at /content/drive\n"
          ],
          "name": "stdout"
        }
      ]
    },
    {
      "cell_type": "code",
      "metadata": {
        "id": "PYzSTesanrkw"
      },
      "source": [
        "data_train = pd.read_csv('/content/drive/My Drive/datasets/classification_train.csv', na_values='NaN', names=['class', 'title', 'description'])\n",
        "data_test = pd.read_csv('/content/drive/My Drive/datasets/classification_test.csv', na_values='NaN', names=['class', 'title', 'description'])"
      ],
      "execution_count": 8,
      "outputs": []
    },
    {
      "cell_type": "code",
      "metadata": {
        "colab": {
          "base_uri": "https://localhost:8080/",
          "height": 399
        },
        "id": "Jsw2lV16w9EL",
        "outputId": "17ec2995-1093-48e5-c756-6ab660d416dc"
      },
      "source": [
        "data_train"
      ],
      "execution_count": 9,
      "outputs": [
        {
          "output_type": "execute_result",
          "data": {
            "text/html": [
              "<div>\n",
              "<style scoped>\n",
              "    .dataframe tbody tr th:only-of-type {\n",
              "        vertical-align: middle;\n",
              "    }\n",
              "\n",
              "    .dataframe tbody tr th {\n",
              "        vertical-align: top;\n",
              "    }\n",
              "\n",
              "    .dataframe thead th {\n",
              "        text-align: right;\n",
              "    }\n",
              "</style>\n",
              "<table border=\"1\" class=\"dataframe\">\n",
              "  <thead>\n",
              "    <tr style=\"text-align: right;\">\n",
              "      <th></th>\n",
              "      <th>class</th>\n",
              "      <th>title</th>\n",
              "      <th>description</th>\n",
              "    </tr>\n",
              "  </thead>\n",
              "  <tbody>\n",
              "    <tr>\n",
              "      <th>0</th>\n",
              "      <td>3</td>\n",
              "      <td>Wall St. Bears Claw Back Into the Black (Reuters)</td>\n",
              "      <td>Reuters - Short-sellers, Wall Street's dwindli...</td>\n",
              "    </tr>\n",
              "    <tr>\n",
              "      <th>1</th>\n",
              "      <td>3</td>\n",
              "      <td>Carlyle Looks Toward Commercial Aerospace (Reu...</td>\n",
              "      <td>Reuters - Private investment firm Carlyle Grou...</td>\n",
              "    </tr>\n",
              "    <tr>\n",
              "      <th>2</th>\n",
              "      <td>3</td>\n",
              "      <td>Oil and Economy Cloud Stocks' Outlook (Reuters)</td>\n",
              "      <td>Reuters - Soaring crude prices plus worries\\ab...</td>\n",
              "    </tr>\n",
              "    <tr>\n",
              "      <th>3</th>\n",
              "      <td>3</td>\n",
              "      <td>Iraq Halts Oil Exports from Main Southern Pipe...</td>\n",
              "      <td>Reuters - Authorities have halted oil export\\f...</td>\n",
              "    </tr>\n",
              "    <tr>\n",
              "      <th>4</th>\n",
              "      <td>3</td>\n",
              "      <td>Oil prices soar to all-time record, posing new...</td>\n",
              "      <td>AFP - Tearaway world oil prices, toppling reco...</td>\n",
              "    </tr>\n",
              "    <tr>\n",
              "      <th>...</th>\n",
              "      <td>...</td>\n",
              "      <td>...</td>\n",
              "      <td>...</td>\n",
              "    </tr>\n",
              "    <tr>\n",
              "      <th>119995</th>\n",
              "      <td>1</td>\n",
              "      <td>Pakistan's Musharraf Says Won't Quit as Army C...</td>\n",
              "      <td>KARACHI (Reuters) - Pakistani President Perve...</td>\n",
              "    </tr>\n",
              "    <tr>\n",
              "      <th>119996</th>\n",
              "      <td>2</td>\n",
              "      <td>Renteria signing a top-shelf deal</td>\n",
              "      <td>Red Sox general manager Theo Epstein acknowled...</td>\n",
              "    </tr>\n",
              "    <tr>\n",
              "      <th>119997</th>\n",
              "      <td>2</td>\n",
              "      <td>Saban not going to Dolphins yet</td>\n",
              "      <td>The Miami Dolphins will put their courtship of...</td>\n",
              "    </tr>\n",
              "    <tr>\n",
              "      <th>119998</th>\n",
              "      <td>2</td>\n",
              "      <td>Today's NFL games</td>\n",
              "      <td>PITTSBURGH at NY GIANTS Time: 1:30 p.m. Line: ...</td>\n",
              "    </tr>\n",
              "    <tr>\n",
              "      <th>119999</th>\n",
              "      <td>2</td>\n",
              "      <td>Nets get Carter from Raptors</td>\n",
              "      <td>INDIANAPOLIS -- All-Star Vince Carter was trad...</td>\n",
              "    </tr>\n",
              "  </tbody>\n",
              "</table>\n",
              "<p>120000 rows × 3 columns</p>\n",
              "</div>"
            ],
            "text/plain": [
              "        class  ...                                        description\n",
              "0           3  ...  Reuters - Short-sellers, Wall Street's dwindli...\n",
              "1           3  ...  Reuters - Private investment firm Carlyle Grou...\n",
              "2           3  ...  Reuters - Soaring crude prices plus worries\\ab...\n",
              "3           3  ...  Reuters - Authorities have halted oil export\\f...\n",
              "4           3  ...  AFP - Tearaway world oil prices, toppling reco...\n",
              "...       ...  ...                                                ...\n",
              "119995      1  ...   KARACHI (Reuters) - Pakistani President Perve...\n",
              "119996      2  ...  Red Sox general manager Theo Epstein acknowled...\n",
              "119997      2  ...  The Miami Dolphins will put their courtship of...\n",
              "119998      2  ...  PITTSBURGH at NY GIANTS Time: 1:30 p.m. Line: ...\n",
              "119999      2  ...  INDIANAPOLIS -- All-Star Vince Carter was trad...\n",
              "\n",
              "[120000 rows x 3 columns]"
            ]
          },
          "metadata": {
            "tags": []
          },
          "execution_count": 9
        }
      ]
    },
    {
      "cell_type": "code",
      "metadata": {
        "colab": {
          "base_uri": "https://localhost:8080/",
          "height": 399
        },
        "id": "tweWqfIaymAC",
        "outputId": "cb48a51b-58cb-4daa-a861-87b51d237826"
      },
      "source": [
        "data_test"
      ],
      "execution_count": 12,
      "outputs": [
        {
          "output_type": "execute_result",
          "data": {
            "text/html": [
              "<div>\n",
              "<style scoped>\n",
              "    .dataframe tbody tr th:only-of-type {\n",
              "        vertical-align: middle;\n",
              "    }\n",
              "\n",
              "    .dataframe tbody tr th {\n",
              "        vertical-align: top;\n",
              "    }\n",
              "\n",
              "    .dataframe thead th {\n",
              "        text-align: right;\n",
              "    }\n",
              "</style>\n",
              "<table border=\"1\" class=\"dataframe\">\n",
              "  <thead>\n",
              "    <tr style=\"text-align: right;\">\n",
              "      <th></th>\n",
              "      <th>class</th>\n",
              "      <th>title</th>\n",
              "      <th>description</th>\n",
              "    </tr>\n",
              "  </thead>\n",
              "  <tbody>\n",
              "    <tr>\n",
              "      <th>0</th>\n",
              "      <td>3</td>\n",
              "      <td>Fears for T N pension after talks</td>\n",
              "      <td>Unions representing workers at Turner   Newall...</td>\n",
              "    </tr>\n",
              "    <tr>\n",
              "      <th>1</th>\n",
              "      <td>4</td>\n",
              "      <td>The Race is On: Second Private Team Sets Launc...</td>\n",
              "      <td>SPACE.com - TORONTO, Canada -- A second\\team o...</td>\n",
              "    </tr>\n",
              "    <tr>\n",
              "      <th>2</th>\n",
              "      <td>4</td>\n",
              "      <td>Ky. Company Wins Grant to Study Peptides (AP)</td>\n",
              "      <td>AP - A company founded by a chemistry research...</td>\n",
              "    </tr>\n",
              "    <tr>\n",
              "      <th>3</th>\n",
              "      <td>4</td>\n",
              "      <td>Prediction Unit Helps Forecast Wildfires (AP)</td>\n",
              "      <td>AP - It's barely dawn when Mike Fitzpatrick st...</td>\n",
              "    </tr>\n",
              "    <tr>\n",
              "      <th>4</th>\n",
              "      <td>4</td>\n",
              "      <td>Calif. Aims to Limit Farm-Related Smog (AP)</td>\n",
              "      <td>AP - Southern California's smog-fighting agenc...</td>\n",
              "    </tr>\n",
              "    <tr>\n",
              "      <th>...</th>\n",
              "      <td>...</td>\n",
              "      <td>...</td>\n",
              "      <td>...</td>\n",
              "    </tr>\n",
              "    <tr>\n",
              "      <th>7595</th>\n",
              "      <td>1</td>\n",
              "      <td>Around the world</td>\n",
              "      <td>Ukrainian presidential candidate Viktor Yushch...</td>\n",
              "    </tr>\n",
              "    <tr>\n",
              "      <th>7596</th>\n",
              "      <td>2</td>\n",
              "      <td>Void is filled with Clement</td>\n",
              "      <td>With the supply of attractive pitching options...</td>\n",
              "    </tr>\n",
              "    <tr>\n",
              "      <th>7597</th>\n",
              "      <td>2</td>\n",
              "      <td>Martinez leaves bitter</td>\n",
              "      <td>Like Roger Clemens did almost exactly eight ye...</td>\n",
              "    </tr>\n",
              "    <tr>\n",
              "      <th>7598</th>\n",
              "      <td>3</td>\n",
              "      <td>5 of arthritis patients in Singapore take Bext...</td>\n",
              "      <td>SINGAPORE : Doctors in the United States have ...</td>\n",
              "    </tr>\n",
              "    <tr>\n",
              "      <th>7599</th>\n",
              "      <td>3</td>\n",
              "      <td>EBay gets into rentals</td>\n",
              "      <td>EBay plans to buy the apartment and home renta...</td>\n",
              "    </tr>\n",
              "  </tbody>\n",
              "</table>\n",
              "<p>7600 rows × 3 columns</p>\n",
              "</div>"
            ],
            "text/plain": [
              "      class  ...                                        description\n",
              "0         3  ...  Unions representing workers at Turner   Newall...\n",
              "1         4  ...  SPACE.com - TORONTO, Canada -- A second\\team o...\n",
              "2         4  ...  AP - A company founded by a chemistry research...\n",
              "3         4  ...  AP - It's barely dawn when Mike Fitzpatrick st...\n",
              "4         4  ...  AP - Southern California's smog-fighting agenc...\n",
              "...     ...  ...                                                ...\n",
              "7595      1  ...  Ukrainian presidential candidate Viktor Yushch...\n",
              "7596      2  ...  With the supply of attractive pitching options...\n",
              "7597      2  ...  Like Roger Clemens did almost exactly eight ye...\n",
              "7598      3  ...  SINGAPORE : Doctors in the United States have ...\n",
              "7599      3  ...  EBay plans to buy the apartment and home renta...\n",
              "\n",
              "[7600 rows x 3 columns]"
            ]
          },
          "metadata": {
            "tags": []
          },
          "execution_count": 12
        }
      ]
    },
    {
      "cell_type": "code",
      "metadata": {
        "id": "PXxBtijJx2ja"
      },
      "source": [
        "VOCAB_SIZE = 20000\n",
        "MAXLEN = 200\n",
        "EPOCH = 10\n",
        "BATCHSIZE = 32"
      ],
      "execution_count": 13,
      "outputs": []
    },
    {
      "cell_type": "code",
      "metadata": {
        "id": "G_UFFF6ex5EY"
      },
      "source": [
        "x = []\n",
        "y = []\n",
        "for cl, title, desc in data_train[['class', 'title', 'description']].values:\n",
        "  x.append(title + desc)\n",
        "  y.append(cl-1)\n",
        "for cl, title, desc in data_test[['class', 'title', 'description']].values:\n",
        "  x.append(title + desc)\n",
        "  y.append(cl-1)\n",
        "x = x[:5000]\n",
        "y = y[:5000]"
      ],
      "execution_count": 14,
      "outputs": []
    },
    {
      "cell_type": "code",
      "metadata": {
        "id": "wbRg7BrNy8lo"
      },
      "source": [
        "from keras.preprocessing.sequence import pad_sequences\n",
        "from keras.preprocessing.text import Tokenizer"
      ],
      "execution_count": 15,
      "outputs": []
    },
    {
      "cell_type": "code",
      "metadata": {
        "id": "sGPmlPRRzBKl"
      },
      "source": [
        "x_tokenizer = Tokenizer(num_words=VOCAB_SIZE)\n",
        "x_tokenizer.fit_on_texts(x)\n",
        "x_index = x_tokenizer.word_index"
      ],
      "execution_count": 16,
      "outputs": []
    },
    {
      "cell_type": "code",
      "metadata": {
        "id": "UoiTAgm9zliq"
      },
      "source": [
        "x_seq = x_tokenizer.texts_to_sequences(x)"
      ],
      "execution_count": 17,
      "outputs": []
    },
    {
      "cell_type": "code",
      "metadata": {
        "id": "m774qaeFzdwC"
      },
      "source": [
        "x_seq_pad = pad_sequences(x_seq, maxlen=MAXLEN)"
      ],
      "execution_count": 18,
      "outputs": []
    },
    {
      "cell_type": "code",
      "metadata": {
        "id": "N1c_C-W6ywzx"
      },
      "source": [
        "embed_dim = 32  # Embedding size for each token\n",
        "num_heads = 2  # Number of attention heads\n",
        "ff_dim = 32  # Hidden layer size in feed forward network inside transformer\n",
        "\n",
        "inputs = layers.Input(shape=(MAXLEN,))\n",
        "embedding_layer = TokenAndPositionEmbedding(MAXLEN, VOCAB_SIZE, embed_dim)\n",
        "x = embedding_layer(inputs)\n",
        "transformer_block = TransformerBlock(embed_dim, num_heads, ff_dim)\n",
        "x = transformer_block(x)\n",
        "x = layers.GlobalAveragePooling1D()(x)\n",
        "x = layers.Dropout(0.1)(x)\n",
        "x = layers.Dense(20, activation=\"relu\")(x)\n",
        "x = layers.Dropout(0.1)(x)\n",
        "outputs = layers.Dense(4, activation=\"softmax\")(x)\n",
        "\n",
        "model = keras.Model(inputs=inputs, outputs=outputs)"
      ],
      "execution_count": 19,
      "outputs": []
    },
    {
      "cell_type": "code",
      "metadata": {
        "id": "JDrxrzsh-6yS"
      },
      "source": [
        "import keras.backend as K"
      ],
      "execution_count": 24,
      "outputs": []
    },
    {
      "cell_type": "code",
      "metadata": {
        "id": "f8ligTAh9Qnj"
      },
      "source": [
        "def recall_m(y_true, y_pred):\n",
        "    true_positives = K.sum(K.round(K.clip(y_true * y_pred, 0, 1)))\n",
        "    possible_positives = K.sum(K.round(K.clip(y_true, 0, 1)))\n",
        "    recall = true_positives / (possible_positives + K.epsilon())\n",
        "    return recall\n",
        "\n",
        "def precision_m(y_true, y_pred):\n",
        "    true_positives = K.sum(K.round(K.clip(y_true * y_pred, 0, 1)))\n",
        "    predicted_positives = K.sum(K.round(K.clip(y_pred, 0, 1)))\n",
        "    precision = true_positives / (predicted_positives + K.epsilon())\n",
        "    return precision\n",
        "\n",
        "def f1_m(y_true, y_pred):\n",
        "    precision = precision_m(y_true, y_pred)\n",
        "    recall = recall_m(y_true, y_pred)\n",
        "    return 2*((precision*recall)/(precision+recall+K.epsilon()))"
      ],
      "execution_count": 25,
      "outputs": []
    },
    {
      "cell_type": "code",
      "metadata": {
        "colab": {
          "base_uri": "https://localhost:8080/"
        },
        "id": "1wskLN1a0JJJ",
        "outputId": "c113069b-247c-42b5-9893-07f95bef622f"
      },
      "source": [
        "model.compile(\"adam\", \"sparse_categorical_crossentropy\", metrics=[\"accuracy\", recall_m, precision_m, f1_m])\n",
        "history = model.fit(\n",
        "    x_seq_pad.tolist(), y, batch_size=BATCHSIZE, epochs=EPOCH\n",
        ")"
      ],
      "execution_count": 26,
      "outputs": [
        {
          "output_type": "stream",
          "text": [
            "Epoch 1/10\n",
            "157/157 [==============================] - 25s 146ms/step - loss: 1.3928 - accuracy: 0.2941 - recall_m: 2.0023 - precision_m: 386505991.1377 - f1_m: 3.9529\n",
            "Epoch 2/10\n",
            "157/157 [==============================] - 22s 143ms/step - loss: 0.8397 - accuracy: 0.6850 - recall_m: 1.4571 - precision_m: 2.6566 - f1_m: 1.7077\n",
            "Epoch 3/10\n",
            "157/157 [==============================] - 23s 144ms/step - loss: 0.2207 - accuracy: 0.9355 - recall_m: 1.0730 - precision_m: 0.8214 - f1_m: 0.9283\n",
            "Epoch 4/10\n",
            "157/157 [==============================] - 23s 148ms/step - loss: 0.0976 - accuracy: 0.9760 - recall_m: 1.0260 - precision_m: 0.7842 - f1_m: 0.8864\n",
            "Epoch 5/10\n",
            "157/157 [==============================] - 23s 144ms/step - loss: 0.0501 - accuracy: 0.9856 - recall_m: 1.0157 - precision_m: 0.7685 - f1_m: 0.8719\n",
            "Epoch 6/10\n",
            "157/157 [==============================] - 22s 141ms/step - loss: 0.0283 - accuracy: 0.9920 - recall_m: 1.0124 - precision_m: 0.7516 - f1_m: 0.8604\n",
            "Epoch 7/10\n",
            "157/157 [==============================] - 23s 145ms/step - loss: 0.0345 - accuracy: 0.9919 - recall_m: 1.0083 - precision_m: 0.7553 - f1_m: 0.8618\n",
            "Epoch 8/10\n",
            "157/157 [==============================] - 23s 144ms/step - loss: 0.0142 - accuracy: 0.9965 - recall_m: 1.0031 - precision_m: 0.7579 - f1_m: 0.8612\n",
            "Epoch 9/10\n",
            "157/157 [==============================] - 23s 146ms/step - loss: 0.0135 - accuracy: 0.9957 - recall_m: 1.0058 - precision_m: 0.7473 - f1_m: 0.8554\n",
            "Epoch 10/10\n",
            "157/157 [==============================] - 23s 145ms/step - loss: 0.0117 - accuracy: 0.9965 - recall_m: 1.0028 - precision_m: 0.7453 - f1_m: 0.8531\n"
          ],
          "name": "stdout"
        }
      ]
    },
    {
      "cell_type": "code",
      "metadata": {
        "colab": {
          "base_uri": "https://localhost:8080/",
          "height": 524
        },
        "id": "j9Qz69np0Sfn",
        "outputId": "be65c6ba-6f72-4b8f-a8ce-cb0c83e82f46"
      },
      "source": [
        "plt.plot(history.history['loss'], label='loss')\n",
        "plt.legend()\n",
        "plt.show()\n",
        "\n",
        "plt.plot(history.history['accuracy'], label='accuracy')\n",
        "plt.plot(history.history['recall_m'], label='recall_m')\n",
        "plt.plot(history.history['precision_m'], label='precision_m')\n",
        "plt.plot(history.history['f1_m'], label='f1_m')\n",
        "plt.legend()\n",
        "plt.show()"
      ],
      "execution_count": 27,
      "outputs": [
        {
          "output_type": "display_data",
          "data": {
            "image/png": "[encoded data removed]",
            "text/plain": [
              "<Figure size 432x288 with 1 Axes>"
            ]
          },
          "metadata": {
            "tags": [],
            "needs_background": "light"
          }
        },
        {
          "output_type": "display_data",
          "data": {
            "image/png": "[encoded data removed]",
            "text/plain": [
              "<Figure size 432x288 with 1 Axes>"
            ]
          },
          "metadata": {
            "tags": [],
            "needs_background": "light"
          }
        }
      ]
    },
    {
      "cell_type": "code",
      "metadata": {
        "id": "Kn2Z9m2MAmxT"
      },
      "source": [
        ""
      ],
      "execution_count": null,
      "outputs": []
    }
  ]
}