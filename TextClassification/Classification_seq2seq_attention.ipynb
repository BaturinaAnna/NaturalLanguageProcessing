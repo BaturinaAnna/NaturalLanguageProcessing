{
  "nbformat": 4,
  "nbformat_minor": 0,
  "metadata": {
    "colab": {
      "name": "Classification_seq2seq_attention.ipynb",
      "provenance": []
    },
    "kernelspec": {
      "name": "python3",
      "display_name": "Python 3"
    },
    "language_info": {
      "name": "python"
    }
  },
  "cells": [
    {
      "cell_type": "code",
      "metadata": {
        "colab": {
          "base_uri": "https://localhost:8080/"
        },
        "id": "1YB0EqYl1ZSu",
        "outputId": "a3a9adfb-4c21-4721-a48c-87ec248b9964"
      },
      "source": [
        "from google.colab import drive\n",
        "drive.mount(\"/content/drive\")"
      ],
      "execution_count": 1,
      "outputs": [
        {
          "output_type": "stream",
          "text": [
            "Drive already mounted at /content/drive; to attempt to forcibly remount, call drive.mount(\"/content/drive\", force_remount=True).\n"
          ],
          "name": "stdout"
        }
      ]
    },
    {
      "cell_type": "code",
      "metadata": {
        "id": "xmBj-s1D1lsI"
      },
      "source": [
        "import matplotlib.pyplot as plt\n",
        "import itertools\n",
        "import math\n",
        "import pandas as pd\n",
        "import os\n",
        "import numpy as np"
      ],
      "execution_count": 2,
      "outputs": []
    },
    {
      "cell_type": "code",
      "metadata": {
        "id": "7DNMSZzt1nVn"
      },
      "source": [
        "BATCHSIZE = 64\n",
        "EPOCH = 10\n",
        "LATENT_DIM = 100\n",
        "LATENT_DIM_DECODER = LATENT_DIM\n",
        "SAMPLES = 10000\n",
        "MAX_WORD_NUM = SAMPLES\n",
        "MAX_SEQ_LEN = 100\n",
        "EMBEDDING = MAX_SEQ_LEN\n",
        "VOCAB_SIZE = 20000\n",
        "MAXLEN = 200\n",
        "BATCHSIZE = 32"
      ],
      "execution_count": 3,
      "outputs": []
    },
    {
      "cell_type": "code",
      "metadata": {
        "id": "rPfVErgR1o1R"
      },
      "source": [
        "data_train = pd.read_csv('/content/drive/My Drive/datasets/classification_train.csv', na_values='NaN', names=['class', 'title', 'description'])\n",
        "data_test = pd.read_csv('/content/drive/My Drive/datasets/classification_test.csv', na_values='NaN', names=['class', 'title', 'description'])"
      ],
      "execution_count": 4,
      "outputs": []
    },
    {
      "cell_type": "code",
      "metadata": {
        "colab": {
          "base_uri": "https://localhost:8080/",
          "height": 399
        },
        "id": "_5OO4Bt01tJr",
        "outputId": "e64efbfe-ddc6-4bf6-fe7e-912fe9072c3c"
      },
      "source": [
        "data_train"
      ],
      "execution_count": 5,
      "outputs": [
        {
          "output_type": "execute_result",
          "data": {
            "text/html": [
              "<div>\n",
              "<style scoped>\n",
              "    .dataframe tbody tr th:only-of-type {\n",
              "        vertical-align: middle;\n",
              "    }\n",
              "\n",
              "    .dataframe tbody tr th {\n",
              "        vertical-align: top;\n",
              "    }\n",
              "\n",
              "    .dataframe thead th {\n",
              "        text-align: right;\n",
              "    }\n",
              "</style>\n",
              "<table border=\"1\" class=\"dataframe\">\n",
              "  <thead>\n",
              "    <tr style=\"text-align: right;\">\n",
              "      <th></th>\n",
              "      <th>class</th>\n",
              "      <th>title</th>\n",
              "      <th>description</th>\n",
              "    </tr>\n",
              "  </thead>\n",
              "  <tbody>\n",
              "    <tr>\n",
              "      <th>0</th>\n",
              "      <td>3</td>\n",
              "      <td>Wall St. Bears Claw Back Into the Black (Reuters)</td>\n",
              "      <td>Reuters - Short-sellers, Wall Street's dwindli...</td>\n",
              "    </tr>\n",
              "    <tr>\n",
              "      <th>1</th>\n",
              "      <td>3</td>\n",
              "      <td>Carlyle Looks Toward Commercial Aerospace (Reu...</td>\n",
              "      <td>Reuters - Private investment firm Carlyle Grou...</td>\n",
              "    </tr>\n",
              "    <tr>\n",
              "      <th>2</th>\n",
              "      <td>3</td>\n",
              "      <td>Oil and Economy Cloud Stocks' Outlook (Reuters)</td>\n",
              "      <td>Reuters - Soaring crude prices plus worries\\ab...</td>\n",
              "    </tr>\n",
              "    <tr>\n",
              "      <th>3</th>\n",
              "      <td>3</td>\n",
              "      <td>Iraq Halts Oil Exports from Main Southern Pipe...</td>\n",
              "      <td>Reuters - Authorities have halted oil export\\f...</td>\n",
              "    </tr>\n",
              "    <tr>\n",
              "      <th>4</th>\n",
              "      <td>3</td>\n",
              "      <td>Oil prices soar to all-time record, posing new...</td>\n",
              "      <td>AFP - Tearaway world oil prices, toppling reco...</td>\n",
              "    </tr>\n",
              "    <tr>\n",
              "      <th>...</th>\n",
              "      <td>...</td>\n",
              "      <td>...</td>\n",
              "      <td>...</td>\n",
              "    </tr>\n",
              "    <tr>\n",
              "      <th>119995</th>\n",
              "      <td>1</td>\n",
              "      <td>Pakistan's Musharraf Says Won't Quit as Army C...</td>\n",
              "      <td>KARACHI (Reuters) - Pakistani President Perve...</td>\n",
              "    </tr>\n",
              "    <tr>\n",
              "      <th>119996</th>\n",
              "      <td>2</td>\n",
              "      <td>Renteria signing a top-shelf deal</td>\n",
              "      <td>Red Sox general manager Theo Epstein acknowled...</td>\n",
              "    </tr>\n",
              "    <tr>\n",
              "      <th>119997</th>\n",
              "      <td>2</td>\n",
              "      <td>Saban not going to Dolphins yet</td>\n",
              "      <td>The Miami Dolphins will put their courtship of...</td>\n",
              "    </tr>\n",
              "    <tr>\n",
              "      <th>119998</th>\n",
              "      <td>2</td>\n",
              "      <td>Today's NFL games</td>\n",
              "      <td>PITTSBURGH at NY GIANTS Time: 1:30 p.m. Line: ...</td>\n",
              "    </tr>\n",
              "    <tr>\n",
              "      <th>119999</th>\n",
              "      <td>2</td>\n",
              "      <td>Nets get Carter from Raptors</td>\n",
              "      <td>INDIANAPOLIS -- All-Star Vince Carter was trad...</td>\n",
              "    </tr>\n",
              "  </tbody>\n",
              "</table>\n",
              "<p>120000 rows × 3 columns</p>\n",
              "</div>"
            ],
            "text/plain": [
              "        class  ...                                        description\n",
              "0           3  ...  Reuters - Short-sellers, Wall Street's dwindli...\n",
              "1           3  ...  Reuters - Private investment firm Carlyle Grou...\n",
              "2           3  ...  Reuters - Soaring crude prices plus worries\\ab...\n",
              "3           3  ...  Reuters - Authorities have halted oil export\\f...\n",
              "4           3  ...  AFP - Tearaway world oil prices, toppling reco...\n",
              "...       ...  ...                                                ...\n",
              "119995      1  ...   KARACHI (Reuters) - Pakistani President Perve...\n",
              "119996      2  ...  Red Sox general manager Theo Epstein acknowled...\n",
              "119997      2  ...  The Miami Dolphins will put their courtship of...\n",
              "119998      2  ...  PITTSBURGH at NY GIANTS Time: 1:30 p.m. Line: ...\n",
              "119999      2  ...  INDIANAPOLIS -- All-Star Vince Carter was trad...\n",
              "\n",
              "[120000 rows x 3 columns]"
            ]
          },
          "metadata": {
            "tags": []
          },
          "execution_count": 5
        }
      ]
    },
    {
      "cell_type": "code",
      "metadata": {
        "colab": {
          "base_uri": "https://localhost:8080/",
          "height": 399
        },
        "id": "tRjUgs-E1uLb",
        "outputId": "b06663cb-65f7-4a1b-af45-4338cde75e58"
      },
      "source": [
        "data_test"
      ],
      "execution_count": 6,
      "outputs": [
        {
          "output_type": "execute_result",
          "data": {
            "text/html": [
              "<div>\n",
              "<style scoped>\n",
              "    .dataframe tbody tr th:only-of-type {\n",
              "        vertical-align: middle;\n",
              "    }\n",
              "\n",
              "    .dataframe tbody tr th {\n",
              "        vertical-align: top;\n",
              "    }\n",
              "\n",
              "    .dataframe thead th {\n",
              "        text-align: right;\n",
              "    }\n",
              "</style>\n",
              "<table border=\"1\" class=\"dataframe\">\n",
              "  <thead>\n",
              "    <tr style=\"text-align: right;\">\n",
              "      <th></th>\n",
              "      <th>class</th>\n",
              "      <th>title</th>\n",
              "      <th>description</th>\n",
              "    </tr>\n",
              "  </thead>\n",
              "  <tbody>\n",
              "    <tr>\n",
              "      <th>0</th>\n",
              "      <td>3</td>\n",
              "      <td>Fears for T N pension after talks</td>\n",
              "      <td>Unions representing workers at Turner   Newall...</td>\n",
              "    </tr>\n",
              "    <tr>\n",
              "      <th>1</th>\n",
              "      <td>4</td>\n",
              "      <td>The Race is On: Second Private Team Sets Launc...</td>\n",
              "      <td>SPACE.com - TORONTO, Canada -- A second\\team o...</td>\n",
              "    </tr>\n",
              "    <tr>\n",
              "      <th>2</th>\n",
              "      <td>4</td>\n",
              "      <td>Ky. Company Wins Grant to Study Peptides (AP)</td>\n",
              "      <td>AP - A company founded by a chemistry research...</td>\n",
              "    </tr>\n",
              "    <tr>\n",
              "      <th>3</th>\n",
              "      <td>4</td>\n",
              "      <td>Prediction Unit Helps Forecast Wildfires (AP)</td>\n",
              "      <td>AP - It's barely dawn when Mike Fitzpatrick st...</td>\n",
              "    </tr>\n",
              "    <tr>\n",
              "      <th>4</th>\n",
              "      <td>4</td>\n",
              "      <td>Calif. Aims to Limit Farm-Related Smog (AP)</td>\n",
              "      <td>AP - Southern California's smog-fighting agenc...</td>\n",
              "    </tr>\n",
              "    <tr>\n",
              "      <th>...</th>\n",
              "      <td>...</td>\n",
              "      <td>...</td>\n",
              "      <td>...</td>\n",
              "    </tr>\n",
              "    <tr>\n",
              "      <th>7595</th>\n",
              "      <td>1</td>\n",
              "      <td>Around the world</td>\n",
              "      <td>Ukrainian presidential candidate Viktor Yushch...</td>\n",
              "    </tr>\n",
              "    <tr>\n",
              "      <th>7596</th>\n",
              "      <td>2</td>\n",
              "      <td>Void is filled with Clement</td>\n",
              "      <td>With the supply of attractive pitching options...</td>\n",
              "    </tr>\n",
              "    <tr>\n",
              "      <th>7597</th>\n",
              "      <td>2</td>\n",
              "      <td>Martinez leaves bitter</td>\n",
              "      <td>Like Roger Clemens did almost exactly eight ye...</td>\n",
              "    </tr>\n",
              "    <tr>\n",
              "      <th>7598</th>\n",
              "      <td>3</td>\n",
              "      <td>5 of arthritis patients in Singapore take Bext...</td>\n",
              "      <td>SINGAPORE : Doctors in the United States have ...</td>\n",
              "    </tr>\n",
              "    <tr>\n",
              "      <th>7599</th>\n",
              "      <td>3</td>\n",
              "      <td>EBay gets into rentals</td>\n",
              "      <td>EBay plans to buy the apartment and home renta...</td>\n",
              "    </tr>\n",
              "  </tbody>\n",
              "</table>\n",
              "<p>7600 rows × 3 columns</p>\n",
              "</div>"
            ],
            "text/plain": [
              "      class  ...                                        description\n",
              "0         3  ...  Unions representing workers at Turner   Newall...\n",
              "1         4  ...  SPACE.com - TORONTO, Canada -- A second\\team o...\n",
              "2         4  ...  AP - A company founded by a chemistry research...\n",
              "3         4  ...  AP - It's barely dawn when Mike Fitzpatrick st...\n",
              "4         4  ...  AP - Southern California's smog-fighting agenc...\n",
              "...     ...  ...                                                ...\n",
              "7595      1  ...  Ukrainian presidential candidate Viktor Yushch...\n",
              "7596      2  ...  With the supply of attractive pitching options...\n",
              "7597      2  ...  Like Roger Clemens did almost exactly eight ye...\n",
              "7598      3  ...  SINGAPORE : Doctors in the United States have ...\n",
              "7599      3  ...  EBay plans to buy the apartment and home renta...\n",
              "\n",
              "[7600 rows x 3 columns]"
            ]
          },
          "metadata": {
            "tags": []
          },
          "execution_count": 6
        }
      ]
    },
    {
      "cell_type": "code",
      "metadata": {
        "id": "sNVtv93I1vEk"
      },
      "source": [
        "x = []\n",
        "y = []\n",
        "for cl, title, desc in data_train[['class', 'title', 'description']].values:\n",
        "  x.append(title + desc)\n",
        "  y.append(cl-1)\n",
        "for cl, title, desc in data_test[['class', 'title', 'description']].values:\n",
        "  x.append(title + desc)\n",
        "  y.append(cl-1)\n",
        "x = x[:5000]\n",
        "y = y[:5000]"
      ],
      "execution_count": 7,
      "outputs": []
    },
    {
      "cell_type": "code",
      "metadata": {
        "id": "WhdmjNQt18LF"
      },
      "source": [
        "vocab = set(itertools.chain.from_iterable(s for s in x)) \n",
        "tags = set(itertools.chain(s for s in y))\n",
        "sentenecs_lens = list(map(len, x))"
      ],
      "execution_count": 8,
      "outputs": []
    },
    {
      "cell_type": "code",
      "metadata": {
        "id": "DtDcmMQ518NV"
      },
      "source": [
        "from keras.preprocessing.text import Tokenizer\n",
        "from keras.preprocessing.sequence import pad_sequences"
      ],
      "execution_count": 9,
      "outputs": []
    },
    {
      "cell_type": "code",
      "metadata": {
        "colab": {
          "base_uri": "https://localhost:8080/"
        },
        "id": "KsCVttYD18PR",
        "outputId": "3c7a4231-15ee-45c1-a90f-def0b92b9731"
      },
      "source": [
        "words_tokenizer = Tokenizer(num_words=MAX_WORD_NUM)\n",
        "words_tokenizer.fit_on_texts(x)\n",
        "word_index = words_tokenizer.word_index\n",
        "max_in_len = max(len(s) for s in x)\n",
        "print(f\"Number of input tokens: {len(word_index)}\")\n",
        "print(f\"Maximum input sequence length: {max_in_len}\")"
      ],
      "execution_count": 10,
      "outputs": [
        {
          "output_type": "stream",
          "text": [
            "Number of input tokens: 19175\n",
            "Maximum input sequence length: 958\n"
          ],
          "name": "stdout"
        }
      ]
    },
    {
      "cell_type": "code",
      "metadata": {
        "id": "5PVbrgVQ18S1"
      },
      "source": [
        "words_seq = words_tokenizer.texts_to_sequences(x)"
      ],
      "execution_count": 11,
      "outputs": []
    },
    {
      "cell_type": "code",
      "metadata": {
        "id": "eoU8EfTu2D5H"
      },
      "source": [
        "words_seq_pad = pad_sequences(words_seq, maxlen=max_in_len)"
      ],
      "execution_count": 12,
      "outputs": []
    },
    {
      "cell_type": "code",
      "metadata": {
        "colab": {
          "base_uri": "https://localhost:8080/"
        },
        "id": "sgAFzbwA2FX_",
        "outputId": "9180fc6a-f4f0-4d30-ae44-043063cc0c6b"
      },
      "source": [
        "wordVec = {}\n",
        "print('Loading wordVec')\n",
        "with open('/content/drive/My Drive/datasets/glove.6B.100d.txt', encoding=\"utf8\") as f:\n",
        "    for line in f:\n",
        "        data = line.split()\n",
        "        word = data[0]\n",
        "        vec = np.asarray(data[1:], dtype='float32')\n",
        "        wordVec[word] = vec\n",
        "print('Finished loading wordVec.')"
      ],
      "execution_count": 13,
      "outputs": [
        {
          "output_type": "stream",
          "text": [
            "Loading wordVec\n",
            "Finished loading wordVec.\n"
          ],
          "name": "stdout"
        }
      ]
    },
    {
      "cell_type": "code",
      "metadata": {
        "id": "Devws04W2G5y"
      },
      "source": [
        "wordNum = min(MAX_WORD_NUM, len(word_index) + 1)\n",
        "word_embedding = np.zeros((wordNum, EMBEDDING))\n",
        "\n",
        "for tok, idx in word_index.items():\n",
        "    if idx < MAX_WORD_NUM:\n",
        "        word_vector = wordVec.get(tok)\n",
        "        if word_vector is not None:\n",
        "            word_embedding[idx] = word_vector"
      ],
      "execution_count": 14,
      "outputs": []
    },
    {
      "cell_type": "code",
      "metadata": {
        "id": "4GodYYdC2J0K"
      },
      "source": [
        "man_target_one_hot = np.zeros((len(x), 1, 4), dtype='float32')\n",
        "\n",
        "for idx, tok in enumerate(y):\n",
        "  man_target_one_hot[idx, 0, tok] = 1"
      ],
      "execution_count": 15,
      "outputs": []
    },
    {
      "cell_type": "code",
      "metadata": {
        "id": "ysKsPqRF2Ldi"
      },
      "source": [
        "from keras.layers import Embedding, Input, LSTM, GRU, Dense, Bidirectional, RepeatVector, Concatenate, Activation, Dot, Lambda, TimeDistributed\n",
        "import keras.backend as K\n",
        "from keras.models import Model"
      ],
      "execution_count": 16,
      "outputs": []
    },
    {
      "cell_type": "code",
      "metadata": {
        "id": "FdNx7Xma2NCu"
      },
      "source": [
        "# Embedding\n",
        "embedding = Embedding(wordNum, EMBEDDING, weights=[word_embedding], input_length=max_in_len)\n",
        "\n",
        "# Encoder\n",
        "input_layer_encoder = Input(shape=(max_in_len,))\n",
        "embed_encoder = embedding(input_layer_encoder)\n",
        "encoder = Bidirectional(LSTM(LATENT_DIM, return_sequences=True, dropout=0.2))\n",
        "encoder_out = encoder(embed_encoder)\n",
        "\n",
        "# Decoder input\n",
        "input_layer_decoder = Input(shape=(1,))\n",
        "embed_decoder = Embedding(4, EMBEDDING)\n",
        "decoder_input = embed_decoder(input_layer_decoder)\n",
        "\n",
        "# Decoder output, after attention\n",
        "decoder = LSTM(LATENT_DIM_DECODER, return_state=True)\n",
        "dense_decode = Dense(4, activation='softmax')\n",
        "s0 = Input(shape=(LATENT_DIM_DECODER,))\n",
        "c0 = Input(shape=(LATENT_DIM_DECODER,))"
      ],
      "execution_count": 17,
      "outputs": []
    },
    {
      "cell_type": "code",
      "metadata": {
        "id": "njO1qFBN2Yd9"
      },
      "source": [
        "# Dimension of x is N x T x D.\n",
        "def softmax(x):\n",
        "    assert(K.ndim(x) > 2)\n",
        "    e = K.exp(x - K.max(x, axis=1, keepdims=True))\n",
        "    s = K.sum(e, axis=1, keepdims=True)\n",
        "    return e / s\n",
        "\n",
        "repeat_attn = RepeatVector(max_in_len)\n",
        "concat_attn = Concatenate(axis=-1)\n",
        "dense1_attn = Dense(10, activation='tanh')\n",
        "# dense1_attn = Dense(5, activation='tanh') \n",
        "dense2_attn = Dense(1, activation=softmax)\n",
        "dot_attn = Dot(axes=1)                      \n",
        "\n",
        "def iterAttn(h, prevOut):\n",
        "    prevOutRepeat = repeat_attn(prevOut)\n",
        "    total = concat_attn([h, prevOutRepeat])\n",
        "    d = dense1_attn(total)\n",
        "    alphaLayer = dense2_attn(d)\n",
        "    context = dot_attn([alphaLayer, h])\n",
        "    \n",
        "    return context"
      ],
      "execution_count": 18,
      "outputs": []
    },
    {
      "cell_type": "code",
      "metadata": {
        "id": "japs3Qcd2e5i"
      },
      "source": [
        "s = s0\n",
        "c = c0\n",
        "\n",
        "all_out = []\n",
        "for t in range(1):\n",
        "    context = iterAttn(encoder_out, s) \n",
        "    \n",
        "    select_layer = Lambda(lambda x: x[:, t:t+1])\n",
        "    prevWord = select_layer(decoder_input)\n",
        "    \n",
        "    concat2 = Concatenate(axis=2)\n",
        "    decoder_in_concat = concat2([context, prevWord])\n",
        "    \n",
        "    pred, s, c = decoder(decoder_in_concat, initial_state=[s, c])\n",
        "    pred = dense_decode(pred)\n",
        "    all_out.append(pred)"
      ],
      "execution_count": 19,
      "outputs": []
    },
    {
      "cell_type": "code",
      "metadata": {
        "id": "PWnRkSjz2e77"
      },
      "source": [
        "def stack(outputs):\n",
        "    outputs = K.stack(outputs)\n",
        "    return K.permute_dimensions(outputs, pattern=(1, 0, 2))\n",
        "\n",
        "stack_layer = Lambda(stack)\n",
        "all_out = stack_layer(all_out)"
      ],
      "execution_count": 20,
      "outputs": []
    },
    {
      "cell_type": "code",
      "metadata": {
        "id": "yZy7DlBz2e_X"
      },
      "source": [
        "attnModel = Model(inputs=[input_layer_encoder, input_layer_decoder, s0, c0,],\n",
        "                 outputs=all_out)"
      ],
      "execution_count": 21,
      "outputs": []
    },
    {
      "cell_type": "code",
      "metadata": {
        "id": "ulkHGWqE2i_U"
      },
      "source": [
        "def myLoss(y_train, pred):\n",
        "    mask = K.cast(y_train > 0, dtype='float32')\n",
        "    val = mask * y_train * K.log(pred)\n",
        "    return -K.sum(val) / K.sum(mask)\n",
        "\n",
        "def acc(y_train, pred):\n",
        "    targ = K.argmax(y_train, axis=-1)\n",
        "    pred = K.argmax(pred, axis=-1)\n",
        "    correct = K.cast(K.equal(targ, pred), dtype='float32')\n",
        "\n",
        "    mask = K.cast(K.greater(targ, 0), dtype='float32')\n",
        "    correctCount = K.sum(mask * correct)\n",
        "    totalCount = K.sum(mask)\n",
        "    return correctCount / totalCount"
      ],
      "execution_count": 22,
      "outputs": []
    },
    {
      "cell_type": "code",
      "metadata": {
        "colab": {
          "base_uri": "https://localhost:8080/"
        },
        "id": "uMBhjzZX2l8w",
        "outputId": "00cb3343-96ef-48d0-98c5-87b12124c595"
      },
      "source": [
        "attnModel.compile(optimizer='adam', loss=myLoss, metrics=[acc])\n",
        "\n",
        "init_s = np.zeros((len(words_seq_pad), LATENT_DIM_DECODER))\n",
        "init_c = np.zeros((len(words_seq_pad), LATENT_DIM_DECODER))\n",
        "\n",
        "history = attnModel.fit(\n",
        "    x=[words_seq_pad, np.array(y), init_s, init_c],\n",
        "    y=man_target_one_hot,\n",
        "    batch_size=BATCHSIZE,\n",
        "    epochs=EPOCH,\n",
        "    validation_split=0.2\n",
        ")"
      ],
      "execution_count": 23,
      "outputs": [
        {
          "output_type": "stream",
          "text": [
            "Epoch 1/10\n",
            "125/125 [==============================] - 177s 1s/step - loss: 0.7508 - acc: 0.7402 - val_loss: 0.0043 - val_acc: 1.0000\n",
            "Epoch 2/10\n",
            "125/125 [==============================] - 172s 1s/step - loss: 0.0028 - acc: 1.0000 - val_loss: 0.0015 - val_acc: 1.0000\n",
            "Epoch 3/10\n",
            "125/125 [==============================] - 172s 1s/step - loss: 0.0011 - acc: 1.0000 - val_loss: 8.0667e-04 - val_acc: 1.0000\n",
            "Epoch 4/10\n",
            "125/125 [==============================] - 172s 1s/step - loss: 5.7500e-04 - acc: 1.0000 - val_loss: 5.1948e-04 - val_acc: 1.0000\n",
            "Epoch 5/10\n",
            "125/125 [==============================] - 172s 1s/step - loss: 3.6618e-04 - acc: 1.0000 - val_loss: 3.7409e-04 - val_acc: 1.0000\n",
            "Epoch 6/10\n",
            "125/125 [==============================] - 173s 1s/step - loss: 2.5793e-04 - acc: 1.0000 - val_loss: 2.8047e-04 - val_acc: 1.0000\n",
            "Epoch 7/10\n",
            "125/125 [==============================] - 173s 1s/step - loss: 1.8585e-04 - acc: 1.0000 - val_loss: 2.1814e-04 - val_acc: 1.0000\n",
            "Epoch 8/10\n",
            "125/125 [==============================] - 172s 1s/step - loss: 1.4226e-04 - acc: 1.0000 - val_loss: 1.7437e-04 - val_acc: 1.0000\n",
            "Epoch 9/10\n",
            "125/125 [==============================] - 173s 1s/step - loss: 1.1475e-04 - acc: 1.0000 - val_loss: 1.4240e-04 - val_acc: 1.0000\n",
            "Epoch 10/10\n",
            "125/125 [==============================] - 174s 1s/step - loss: 9.7799e-05 - acc: 1.0000 - val_loss: 1.1939e-04 - val_acc: 1.0000\n"
          ],
          "name": "stdout"
        }
      ]
    },
    {
      "cell_type": "code",
      "metadata": {
        "colab": {
          "base_uri": "https://localhost:8080/",
          "height": 513
        },
        "id": "F7hw_Kwx2nJt",
        "outputId": "677098d1-670d-48c7-e501-1d0041aa073e"
      },
      "source": [
        "plt.plot(history.history['loss'], label='loss')\n",
        "plt.plot(history.history['val_loss'], label='val_loss')\n",
        "plt.legend()\n",
        "plt.show()\n",
        "\n",
        "plt.plot(history.history['acc'], label='acc')\n",
        "plt.plot(history.history['val_acc'], label='val_acc')\n",
        "plt.legend()\n",
        "plt.show()"
      ],
      "execution_count": 24,
      "outputs": [
        {
          "output_type": "display_data",
          "data": {
            "image/png": "[encoded data removed]",
            "text/plain": [
              "<Figure size 432x288 with 1 Axes>"
            ]
          },
          "metadata": {
            "tags": [],
            "needs_background": "light"
          }
        },
        {
          "output_type": "display_data",
          "data": {
            "image/png": "[encoded data removed]",
            "text/plain": [
              "<Figure size 432x288 with 1 Axes>"
            ]
          },
          "metadata": {
            "tags": [],
            "needs_background": "light"
          }
        }
      ]
    }
  ]
}