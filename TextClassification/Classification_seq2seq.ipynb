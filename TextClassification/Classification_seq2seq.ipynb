{
  "nbformat": 4,
  "nbformat_minor": 0,
  "metadata": {
    "colab": {
      "name": "Classification_seq2seq.ipynb",
      "provenance": []
    },
    "kernelspec": {
      "name": "python3",
      "display_name": "Python 3"
    },
    "language_info": {
      "name": "python"
    }
  },
  "cells": [
    {
      "cell_type": "code",
      "metadata": {
        "colab": {
          "base_uri": "https://localhost:8080/"
        },
        "id": "fTJcRW-gJ2MB",
        "outputId": "580679dc-9c27-4781-9fc4-2f2c31a1674c"
      },
      "source": [
        "from google.colab import drive\n",
        "drive.mount(\"/content/drive\")"
      ],
      "execution_count": 1,
      "outputs": [
        {
          "output_type": "stream",
          "text": [
            "Mounted at /content/drive\n"
          ],
          "name": "stdout"
        }
      ]
    },
    {
      "cell_type": "code",
      "metadata": {
        "id": "yQYFNqqFJ2j_"
      },
      "source": [
        "import matplotlib.pyplot as plt\n",
        "import itertools\n",
        "import math\n",
        "import pandas as pd\n",
        "import os\n",
        "import numpy as np"
      ],
      "execution_count": 2,
      "outputs": []
    },
    {
      "cell_type": "code",
      "metadata": {
        "id": "MVC3lj4lJ8_P"
      },
      "source": [
        "BATCHSIZE = 64\n",
        "EPOCH = 2\n",
        "LATENT_DIM = 100\n",
        "LATENT_DIM_DECODER = LATENT_DIM\n",
        "SAMPLES = 10000\n",
        "MAX_WORD_NUM = SAMPLES\n",
        "MAX_SEQ_LEN = 100\n",
        "EMBEDDING = MAX_SEQ_LEN\n",
        "VOCAB_SIZE = 20000\n",
        "MAXLEN = 200\n",
        "BATCHSIZE = 32"
      ],
      "execution_count": 3,
      "outputs": []
    },
    {
      "cell_type": "code",
      "metadata": {
        "id": "wwEouBw1J_IX"
      },
      "source": [
        "data_train = pd.read_csv('/content/drive/My Drive/datasets/classification_train.csv', na_values='NaN', names=['class', 'title', 'description'])\n",
        "data_test = pd.read_csv('/content/drive/My Drive/datasets/classification_test.csv', na_values='NaN', names=['class', 'title', 'description'])"
      ],
      "execution_count": 4,
      "outputs": []
    },
    {
      "cell_type": "code",
      "metadata": {
        "colab": {
          "base_uri": "https://localhost:8080/",
          "height": 399
        },
        "id": "iyuSlCKTKGQa",
        "outputId": "52830a6f-f394-417c-9a06-ca227ee39a08"
      },
      "source": [
        "data_train"
      ],
      "execution_count": 5,
      "outputs": [
        {
          "output_type": "execute_result",
          "data": {
            "text/html": [
              "<div>\n",
              "<style scoped>\n",
              "    .dataframe tbody tr th:only-of-type {\n",
              "        vertical-align: middle;\n",
              "    }\n",
              "\n",
              "    .dataframe tbody tr th {\n",
              "        vertical-align: top;\n",
              "    }\n",
              "\n",
              "    .dataframe thead th {\n",
              "        text-align: right;\n",
              "    }\n",
              "</style>\n",
              "<table border=\"1\" class=\"dataframe\">\n",
              "  <thead>\n",
              "    <tr style=\"text-align: right;\">\n",
              "      <th></th>\n",
              "      <th>class</th>\n",
              "      <th>title</th>\n",
              "      <th>description</th>\n",
              "    </tr>\n",
              "  </thead>\n",
              "  <tbody>\n",
              "    <tr>\n",
              "      <th>0</th>\n",
              "      <td>3</td>\n",
              "      <td>Wall St. Bears Claw Back Into the Black (Reuters)</td>\n",
              "      <td>Reuters - Short-sellers, Wall Street's dwindli...</td>\n",
              "    </tr>\n",
              "    <tr>\n",
              "      <th>1</th>\n",
              "      <td>3</td>\n",
              "      <td>Carlyle Looks Toward Commercial Aerospace (Reu...</td>\n",
              "      <td>Reuters - Private investment firm Carlyle Grou...</td>\n",
              "    </tr>\n",
              "    <tr>\n",
              "      <th>2</th>\n",
              "      <td>3</td>\n",
              "      <td>Oil and Economy Cloud Stocks' Outlook (Reuters)</td>\n",
              "      <td>Reuters - Soaring crude prices plus worries\\ab...</td>\n",
              "    </tr>\n",
              "    <tr>\n",
              "      <th>3</th>\n",
              "      <td>3</td>\n",
              "      <td>Iraq Halts Oil Exports from Main Southern Pipe...</td>\n",
              "      <td>Reuters - Authorities have halted oil export\\f...</td>\n",
              "    </tr>\n",
              "    <tr>\n",
              "      <th>4</th>\n",
              "      <td>3</td>\n",
              "      <td>Oil prices soar to all-time record, posing new...</td>\n",
              "      <td>AFP - Tearaway world oil prices, toppling reco...</td>\n",
              "    </tr>\n",
              "    <tr>\n",
              "      <th>...</th>\n",
              "      <td>...</td>\n",
              "      <td>...</td>\n",
              "      <td>...</td>\n",
              "    </tr>\n",
              "    <tr>\n",
              "      <th>119995</th>\n",
              "      <td>1</td>\n",
              "      <td>Pakistan's Musharraf Says Won't Quit as Army C...</td>\n",
              "      <td>KARACHI (Reuters) - Pakistani President Perve...</td>\n",
              "    </tr>\n",
              "    <tr>\n",
              "      <th>119996</th>\n",
              "      <td>2</td>\n",
              "      <td>Renteria signing a top-shelf deal</td>\n",
              "      <td>Red Sox general manager Theo Epstein acknowled...</td>\n",
              "    </tr>\n",
              "    <tr>\n",
              "      <th>119997</th>\n",
              "      <td>2</td>\n",
              "      <td>Saban not going to Dolphins yet</td>\n",
              "      <td>The Miami Dolphins will put their courtship of...</td>\n",
              "    </tr>\n",
              "    <tr>\n",
              "      <th>119998</th>\n",
              "      <td>2</td>\n",
              "      <td>Today's NFL games</td>\n",
              "      <td>PITTSBURGH at NY GIANTS Time: 1:30 p.m. Line: ...</td>\n",
              "    </tr>\n",
              "    <tr>\n",
              "      <th>119999</th>\n",
              "      <td>2</td>\n",
              "      <td>Nets get Carter from Raptors</td>\n",
              "      <td>INDIANAPOLIS -- All-Star Vince Carter was trad...</td>\n",
              "    </tr>\n",
              "  </tbody>\n",
              "</table>\n",
              "<p>120000 rows × 3 columns</p>\n",
              "</div>"
            ],
            "text/plain": [
              "        class  ...                                        description\n",
              "0           3  ...  Reuters - Short-sellers, Wall Street's dwindli...\n",
              "1           3  ...  Reuters - Private investment firm Carlyle Grou...\n",
              "2           3  ...  Reuters - Soaring crude prices plus worries\\ab...\n",
              "3           3  ...  Reuters - Authorities have halted oil export\\f...\n",
              "4           3  ...  AFP - Tearaway world oil prices, toppling reco...\n",
              "...       ...  ...                                                ...\n",
              "119995      1  ...   KARACHI (Reuters) - Pakistani President Perve...\n",
              "119996      2  ...  Red Sox general manager Theo Epstein acknowled...\n",
              "119997      2  ...  The Miami Dolphins will put their courtship of...\n",
              "119998      2  ...  PITTSBURGH at NY GIANTS Time: 1:30 p.m. Line: ...\n",
              "119999      2  ...  INDIANAPOLIS -- All-Star Vince Carter was trad...\n",
              "\n",
              "[120000 rows x 3 columns]"
            ]
          },
          "metadata": {
            "tags": []
          },
          "execution_count": 5
        }
      ]
    },
    {
      "cell_type": "code",
      "metadata": {
        "colab": {
          "base_uri": "https://localhost:8080/",
          "height": 399
        },
        "id": "XIkcovqkKlKn",
        "outputId": "374be7ce-ab22-44b4-ab1d-3ca26c427076"
      },
      "source": [
        "data_test"
      ],
      "execution_count": 6,
      "outputs": [
        {
          "output_type": "execute_result",
          "data": {
            "text/html": [
              "<div>\n",
              "<style scoped>\n",
              "    .dataframe tbody tr th:only-of-type {\n",
              "        vertical-align: middle;\n",
              "    }\n",
              "\n",
              "    .dataframe tbody tr th {\n",
              "        vertical-align: top;\n",
              "    }\n",
              "\n",
              "    .dataframe thead th {\n",
              "        text-align: right;\n",
              "    }\n",
              "</style>\n",
              "<table border=\"1\" class=\"dataframe\">\n",
              "  <thead>\n",
              "    <tr style=\"text-align: right;\">\n",
              "      <th></th>\n",
              "      <th>class</th>\n",
              "      <th>title</th>\n",
              "      <th>description</th>\n",
              "    </tr>\n",
              "  </thead>\n",
              "  <tbody>\n",
              "    <tr>\n",
              "      <th>0</th>\n",
              "      <td>3</td>\n",
              "      <td>Fears for T N pension after talks</td>\n",
              "      <td>Unions representing workers at Turner   Newall...</td>\n",
              "    </tr>\n",
              "    <tr>\n",
              "      <th>1</th>\n",
              "      <td>4</td>\n",
              "      <td>The Race is On: Second Private Team Sets Launc...</td>\n",
              "      <td>SPACE.com - TORONTO, Canada -- A second\\team o...</td>\n",
              "    </tr>\n",
              "    <tr>\n",
              "      <th>2</th>\n",
              "      <td>4</td>\n",
              "      <td>Ky. Company Wins Grant to Study Peptides (AP)</td>\n",
              "      <td>AP - A company founded by a chemistry research...</td>\n",
              "    </tr>\n",
              "    <tr>\n",
              "      <th>3</th>\n",
              "      <td>4</td>\n",
              "      <td>Prediction Unit Helps Forecast Wildfires (AP)</td>\n",
              "      <td>AP - It's barely dawn when Mike Fitzpatrick st...</td>\n",
              "    </tr>\n",
              "    <tr>\n",
              "      <th>4</th>\n",
              "      <td>4</td>\n",
              "      <td>Calif. Aims to Limit Farm-Related Smog (AP)</td>\n",
              "      <td>AP - Southern California's smog-fighting agenc...</td>\n",
              "    </tr>\n",
              "    <tr>\n",
              "      <th>...</th>\n",
              "      <td>...</td>\n",
              "      <td>...</td>\n",
              "      <td>...</td>\n",
              "    </tr>\n",
              "    <tr>\n",
              "      <th>7595</th>\n",
              "      <td>1</td>\n",
              "      <td>Around the world</td>\n",
              "      <td>Ukrainian presidential candidate Viktor Yushch...</td>\n",
              "    </tr>\n",
              "    <tr>\n",
              "      <th>7596</th>\n",
              "      <td>2</td>\n",
              "      <td>Void is filled with Clement</td>\n",
              "      <td>With the supply of attractive pitching options...</td>\n",
              "    </tr>\n",
              "    <tr>\n",
              "      <th>7597</th>\n",
              "      <td>2</td>\n",
              "      <td>Martinez leaves bitter</td>\n",
              "      <td>Like Roger Clemens did almost exactly eight ye...</td>\n",
              "    </tr>\n",
              "    <tr>\n",
              "      <th>7598</th>\n",
              "      <td>3</td>\n",
              "      <td>5 of arthritis patients in Singapore take Bext...</td>\n",
              "      <td>SINGAPORE : Doctors in the United States have ...</td>\n",
              "    </tr>\n",
              "    <tr>\n",
              "      <th>7599</th>\n",
              "      <td>3</td>\n",
              "      <td>EBay gets into rentals</td>\n",
              "      <td>EBay plans to buy the apartment and home renta...</td>\n",
              "    </tr>\n",
              "  </tbody>\n",
              "</table>\n",
              "<p>7600 rows × 3 columns</p>\n",
              "</div>"
            ],
            "text/plain": [
              "      class  ...                                        description\n",
              "0         3  ...  Unions representing workers at Turner   Newall...\n",
              "1         4  ...  SPACE.com - TORONTO, Canada -- A second\\team o...\n",
              "2         4  ...  AP - A company founded by a chemistry research...\n",
              "3         4  ...  AP - It's barely dawn when Mike Fitzpatrick st...\n",
              "4         4  ...  AP - Southern California's smog-fighting agenc...\n",
              "...     ...  ...                                                ...\n",
              "7595      1  ...  Ukrainian presidential candidate Viktor Yushch...\n",
              "7596      2  ...  With the supply of attractive pitching options...\n",
              "7597      2  ...  Like Roger Clemens did almost exactly eight ye...\n",
              "7598      3  ...  SINGAPORE : Doctors in the United States have ...\n",
              "7599      3  ...  EBay plans to buy the apartment and home renta...\n",
              "\n",
              "[7600 rows x 3 columns]"
            ]
          },
          "metadata": {
            "tags": []
          },
          "execution_count": 6
        }
      ]
    },
    {
      "cell_type": "code",
      "metadata": {
        "id": "828OzaY6Kl7R"
      },
      "source": [
        "x = []\n",
        "y = []\n",
        "for cl, title, desc in data_train[['class', 'title', 'description']].values:\n",
        "  x.append(title + desc)\n",
        "  y.append(cl-1)\n",
        "for cl, title, desc in data_test[['class', 'title', 'description']].values:\n",
        "  x.append(title + desc)\n",
        "  y.append(cl-1)"
      ],
      "execution_count": 7,
      "outputs": []
    },
    {
      "cell_type": "code",
      "metadata": {
        "id": "_96S89b-KxYW"
      },
      "source": [
        "vocab = set(itertools.chain.from_iterable(s for s in x)) \n",
        "tags = set(itertools.chain(s for s in y))\n",
        "sentenecs_lens = list(map(len, x))"
      ],
      "execution_count": 8,
      "outputs": []
    },
    {
      "cell_type": "code",
      "metadata": {
        "id": "ayEmZyJ4LKA0"
      },
      "source": [
        "from keras.preprocessing.text import Tokenizer\n",
        "from keras.preprocessing.sequence import pad_sequences"
      ],
      "execution_count": 9,
      "outputs": []
    },
    {
      "cell_type": "code",
      "metadata": {
        "colab": {
          "base_uri": "https://localhost:8080/"
        },
        "id": "7S_BqkNSLO_s",
        "outputId": "dbf87932-69a2-4220-a8b0-bc2a6ef9688e"
      },
      "source": [
        "words_tokenizer = Tokenizer(num_words=MAX_WORD_NUM)\n",
        "words_tokenizer.fit_on_texts(x)\n",
        "word_index = words_tokenizer.word_index\n",
        "max_in_len = max(len(s) for s in x)\n",
        "print(f\"Number of input tokens: {len(word_index)}\")\n",
        "print(f\"Maximum input sequence length: {max_in_len}\")"
      ],
      "execution_count": 10,
      "outputs": [
        {
          "output_type": "stream",
          "text": [
            "Number of input tokens: 141484\n",
            "Maximum input sequence length: 1011\n"
          ],
          "name": "stdout"
        }
      ]
    },
    {
      "cell_type": "code",
      "metadata": {
        "id": "FNxqF7ObLUZ9"
      },
      "source": [
        "words_seq = words_tokenizer.texts_to_sequences(x)"
      ],
      "execution_count": 11,
      "outputs": []
    },
    {
      "cell_type": "code",
      "metadata": {
        "id": "NtC-0rpkLuSv"
      },
      "source": [
        "words_seq_pad = pad_sequences(words_seq, maxlen=max_in_len)"
      ],
      "execution_count": 12,
      "outputs": []
    },
    {
      "cell_type": "code",
      "metadata": {
        "colab": {
          "base_uri": "https://localhost:8080/"
        },
        "id": "UAAULG-vL12U",
        "outputId": "67cd8582-bfcc-4119-adf2-963920a8f502"
      },
      "source": [
        "wordVec = {}\n",
        "print('Loading wordVec')\n",
        "with open('/content/drive/My Drive/datasets/glove.6B.100d.txt', encoding=\"utf8\") as f:\n",
        "    for line in f:\n",
        "        data = line.split()\n",
        "        word = data[0]\n",
        "        vec = np.asarray(data[1:], dtype='float32')\n",
        "        wordVec[word] = vec\n",
        "print('Finished loading wordVec.')"
      ],
      "execution_count": 13,
      "outputs": [
        {
          "output_type": "stream",
          "text": [
            "Loading wordVec\n",
            "Finished loading wordVec.\n"
          ],
          "name": "stdout"
        }
      ]
    },
    {
      "cell_type": "code",
      "metadata": {
        "id": "qHy31lHJL80R"
      },
      "source": [
        "wordNum = min(MAX_WORD_NUM, len(word_index) + 1)\n",
        "word_embedding = np.zeros((wordNum, EMBEDDING))\n",
        "\n",
        "for tok, idx in word_index.items():\n",
        "    if idx < MAX_WORD_NUM:\n",
        "        word_vector = wordVec.get(tok)\n",
        "        if word_vector is not None:\n",
        "            word_embedding[idx] = word_vector"
      ],
      "execution_count": 14,
      "outputs": []
    },
    {
      "cell_type": "code",
      "metadata": {
        "id": "HKTUvtpAEPUX"
      },
      "source": [
        "man_target_one_hot = np.zeros((len(x), 1, 4), dtype='float32')\n",
        "\n",
        "for idx, tok in enumerate(y):\n",
        "  man_target_one_hot[idx, 0, tok] = 1"
      ],
      "execution_count": 15,
      "outputs": []
    },
    {
      "cell_type": "code",
      "metadata": {
        "id": "ytq9zlwyMBRx"
      },
      "source": [
        "from keras.layers import Embedding, Input, LSTM, GRU, Dense, Bidirectional, RepeatVector, Concatenate, Activation, Dot, Lambda, TimeDistributed\n",
        "import keras.backend as K\n",
        "from keras.models import Model"
      ],
      "execution_count": 16,
      "outputs": []
    },
    {
      "cell_type": "code",
      "metadata": {
        "id": "PaNplgaVMT5i"
      },
      "source": [
        "embedding = Embedding(wordNum, EMBEDDING, weights=[word_embedding], input_length=max_in_len)\n",
        "\n",
        "encoder_inputs = Input(shape=(max_in_len, ), dtype='int32',)\n",
        "encoder_embedding = embedding(encoder_inputs)\n",
        "encoder_LSTM = LSTM(LATENT_DIM, return_state=True)\n",
        "encoder_outputs, state_h, state_c = encoder_LSTM(encoder_embedding)\n",
        "\n",
        "decoder_inputs = Input(shape=(1, ), dtype='int32',)\n",
        "decoder_embedding = embedding(decoder_inputs)\n",
        "decoder_LSTM = LSTM(LATENT_DIM_DECODER, return_state=True, return_sequences=True)\n",
        "decoder_outputs, _, _ = decoder_LSTM(decoder_embedding, initial_state=[state_h, state_c])\n",
        "\n",
        "outputs = Dense(4, activation='softmax')(decoder_outputs)\n",
        "model = Model([encoder_inputs, decoder_inputs], outputs)"
      ],
      "execution_count": 17,
      "outputs": []
    },
    {
      "cell_type": "code",
      "metadata": {
        "id": "Irkauec6MWFp"
      },
      "source": [
        "def acc(y, pred):\n",
        "    targ = K.argmax(y, axis=-1)\n",
        "    pred = K.argmax(pred, axis=-1)\n",
        "    correct = K.cast(K.equal(targ, pred), dtype='float32')\n",
        "\n",
        "    mask = K.cast(K.greater(targ, 0), dtype='float32')\n",
        "    correctCount = K.sum(mask * correct)\n",
        "    totalCount = K.sum(mask)\n",
        "    return correctCount / totalCount"
      ],
      "execution_count": 18,
      "outputs": []
    },
    {
      "cell_type": "code",
      "metadata": {
        "colab": {
          "base_uri": "https://localhost:8080/"
        },
        "id": "lrnzn0CVMX9h",
        "outputId": "69068b33-8742-4339-aefe-e666b798ebc5"
      },
      "source": [
        "model.compile(optimizer='adam', loss='categorical_crossentropy', metrics=[acc])\n",
        "history = model.fit([words_seq_pad, np.array(y)],\n",
        "               man_target_one_hot,\n",
        "              batch_size=BATCHSIZE, \n",
        "          epochs=EPOCH)"
      ],
      "execution_count": 19,
      "outputs": [
        {
          "output_type": "stream",
          "text": [
            "Epoch 1/2\n",
            "3988/3988 [==============================] - 3465s 868ms/step - loss: 0.0330 - acc: 0.9922\n",
            "Epoch 2/2\n",
            "3988/3988 [==============================] - 3537s 887ms/step - loss: 3.6537e-06 - acc: 1.0000\n"
          ],
          "name": "stdout"
        }
      ]
    },
    {
      "cell_type": "code",
      "metadata": {
        "colab": {
          "base_uri": "https://localhost:8080/",
          "height": 513
        },
        "id": "9RjWLrn9MYOY",
        "outputId": "adea104f-eb53-40ef-aca7-b5fa75a11013"
      },
      "source": [
        "plt.plot(history.history['loss'], label='loss')\n",
        "plt.legend()\n",
        "plt.show()\n",
        "\n",
        "plt.plot(history.history['acc'], label='acc')\n",
        "plt.legend()\n",
        "plt.show()"
      ],
      "execution_count": 20,
      "outputs": [
        {
          "output_type": "display_data",
          "data": {
            "image/png": "[encoded data removed]",
            "text/plain": [
              "<Figure size 432x288 with 1 Axes>"
            ]
          },
          "metadata": {
            "tags": [],
            "needs_background": "light"
          }
        },
        {
          "output_type": "display_data",
          "data": {
            "image/png": "[encoded data removed]",
            "text/plain": [
              "<Figure size 432x288 with 1 Axes>"
            ]
          },
          "metadata": {
            "tags": [],
            "needs_background": "light"
          }
        }
      ]
    }
  ]
}