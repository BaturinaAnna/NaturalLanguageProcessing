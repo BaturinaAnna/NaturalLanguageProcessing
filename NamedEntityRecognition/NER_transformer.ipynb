{
  "nbformat": 4,
  "nbformat_minor": 0,
  "metadata": {
    "colab": {
      "name": "NER_transformer.ipynb",
      "provenance": []
    },
    "kernelspec": {
      "name": "python3",
      "display_name": "Python 3"
    },
    "language_info": {
      "name": "python"
    }
  },
  "cells": [
    {
      "cell_type": "code",
      "metadata": {
        "colab": {
          "base_uri": "https://localhost:8080/"
        },
        "id": "ZbIgSvgVNvYJ",
        "outputId": "66a3c033-d34f-4943-d96c-86a578ec8da5"
      },
      "source": [
        "from google.colab import drive\n",
        "drive.mount(\"/content/drive\")"
      ],
      "execution_count": 22,
      "outputs": [
        {
          "output_type": "stream",
          "text": [
            "Drive already mounted at /content/drive; to attempt to forcibly remount, call drive.mount(\"/content/drive\", force_remount=True).\n"
          ],
          "name": "stdout"
        }
      ]
    },
    {
      "cell_type": "code",
      "metadata": {
        "id": "vLDx1Ml8N0Tl"
      },
      "source": [
        "import matplotlib.pyplot as plt\n",
        "import itertools\n",
        "import math\n",
        "import pandas as pd\n",
        "import os\n",
        "import numpy as np"
      ],
      "execution_count": 23,
      "outputs": []
    },
    {
      "cell_type": "code",
      "metadata": {
        "id": "W-Uh5qJ9N0V7"
      },
      "source": [
        "ner_df = pd.read_csv('/content/drive/My Drive/datasets/ner_dataset.csv', engine='python', na_values='NaN')"
      ],
      "execution_count": 24,
      "outputs": []
    },
    {
      "cell_type": "code",
      "metadata": {
        "id": "mBlkyTPcN0YQ"
      },
      "source": [
        "BATCHSIZE = 64\n",
        "EPOCH = 10\n",
        "LATENT_DIM = 100\n",
        "LATENT_DIM_DECODER = LATENT_DIM\n",
        "SAMPLES = 10000\n",
        "MAX_WORD_NUM = SAMPLES\n",
        "MAX_SEQ_LEN = 100\n",
        "MAXLEN = 100\n",
        "EMBEDDING = MAX_SEQ_LEN"
      ],
      "execution_count": 25,
      "outputs": []
    },
    {
      "cell_type": "code",
      "metadata": {
        "colab": {
          "base_uri": "https://localhost:8080/",
          "height": 399
        },
        "id": "HKiEeAP8N0a4",
        "outputId": "9a3ecafa-16e4-4422-b732-82bf9d1b2692"
      },
      "source": [
        "ner_df"
      ],
      "execution_count": 26,
      "outputs": [
        {
          "output_type": "execute_result",
          "data": {
            "text/html": [
              "<div>\n",
              "<style scoped>\n",
              "    .dataframe tbody tr th:only-of-type {\n",
              "        vertical-align: middle;\n",
              "    }\n",
              "\n",
              "    .dataframe tbody tr th {\n",
              "        vertical-align: top;\n",
              "    }\n",
              "\n",
              "    .dataframe thead th {\n",
              "        text-align: right;\n",
              "    }\n",
              "</style>\n",
              "<table border=\"1\" class=\"dataframe\">\n",
              "  <thead>\n",
              "    <tr style=\"text-align: right;\">\n",
              "      <th></th>\n",
              "      <th>Sentence #</th>\n",
              "      <th>Word</th>\n",
              "      <th>POS</th>\n",
              "      <th>Tag</th>\n",
              "    </tr>\n",
              "  </thead>\n",
              "  <tbody>\n",
              "    <tr>\n",
              "      <th>0</th>\n",
              "      <td>Sentence: 1</td>\n",
              "      <td>Thousands</td>\n",
              "      <td>NNS</td>\n",
              "      <td>O</td>\n",
              "    </tr>\n",
              "    <tr>\n",
              "      <th>1</th>\n",
              "      <td>NaN</td>\n",
              "      <td>of</td>\n",
              "      <td>IN</td>\n",
              "      <td>O</td>\n",
              "    </tr>\n",
              "    <tr>\n",
              "      <th>2</th>\n",
              "      <td>NaN</td>\n",
              "      <td>demonstrators</td>\n",
              "      <td>NNS</td>\n",
              "      <td>O</td>\n",
              "    </tr>\n",
              "    <tr>\n",
              "      <th>3</th>\n",
              "      <td>NaN</td>\n",
              "      <td>have</td>\n",
              "      <td>VBP</td>\n",
              "      <td>O</td>\n",
              "    </tr>\n",
              "    <tr>\n",
              "      <th>4</th>\n",
              "      <td>NaN</td>\n",
              "      <td>marched</td>\n",
              "      <td>VBN</td>\n",
              "      <td>O</td>\n",
              "    </tr>\n",
              "    <tr>\n",
              "      <th>...</th>\n",
              "      <td>...</td>\n",
              "      <td>...</td>\n",
              "      <td>...</td>\n",
              "      <td>...</td>\n",
              "    </tr>\n",
              "    <tr>\n",
              "      <th>1048570</th>\n",
              "      <td>NaN</td>\n",
              "      <td>they</td>\n",
              "      <td>PRP</td>\n",
              "      <td>O</td>\n",
              "    </tr>\n",
              "    <tr>\n",
              "      <th>1048571</th>\n",
              "      <td>NaN</td>\n",
              "      <td>responded</td>\n",
              "      <td>VBD</td>\n",
              "      <td>O</td>\n",
              "    </tr>\n",
              "    <tr>\n",
              "      <th>1048572</th>\n",
              "      <td>NaN</td>\n",
              "      <td>to</td>\n",
              "      <td>TO</td>\n",
              "      <td>O</td>\n",
              "    </tr>\n",
              "    <tr>\n",
              "      <th>1048573</th>\n",
              "      <td>NaN</td>\n",
              "      <td>the</td>\n",
              "      <td>DT</td>\n",
              "      <td>O</td>\n",
              "    </tr>\n",
              "    <tr>\n",
              "      <th>1048574</th>\n",
              "      <td>NaN</td>\n",
              "      <td>attack</td>\n",
              "      <td>NN</td>\n",
              "      <td>O</td>\n",
              "    </tr>\n",
              "  </tbody>\n",
              "</table>\n",
              "<p>1048575 rows × 4 columns</p>\n",
              "</div>"
            ],
            "text/plain": [
              "          Sentence #           Word  POS Tag\n",
              "0        Sentence: 1      Thousands  NNS   O\n",
              "1                NaN             of   IN   O\n",
              "2                NaN  demonstrators  NNS   O\n",
              "3                NaN           have  VBP   O\n",
              "4                NaN        marched  VBN   O\n",
              "...              ...            ...  ...  ..\n",
              "1048570          NaN           they  PRP   O\n",
              "1048571          NaN      responded  VBD   O\n",
              "1048572          NaN             to   TO   O\n",
              "1048573          NaN            the   DT   O\n",
              "1048574          NaN         attack   NN   O\n",
              "\n",
              "[1048575 rows x 4 columns]"
            ]
          },
          "metadata": {
            "tags": []
          },
          "execution_count": 26
        }
      ]
    },
    {
      "cell_type": "code",
      "metadata": {
        "id": "JmKTHRuCN0eT"
      },
      "source": [
        "sentences_words = []\n",
        "sentences_tags = []\n",
        "current_sentence_words = []\n",
        "current_sentence_tags = []\n",
        "for sent_num, word, tag in ner_df[['Sentence #', 'Word', 'Tag']].values: \n",
        "    if pd.notna(sent_num) and current_sentence_words and current_sentence_tags:\n",
        "            sentences_words.append(current_sentence_words)\n",
        "            sentences_tags.append(current_sentence_tags)\n",
        "            current_sentence_words = []\n",
        "            current_sentence_tags = []\n",
        "    current_sentence_words.append(word)\n",
        "    current_sentence_tags.append(tag)"
      ],
      "execution_count": 27,
      "outputs": []
    },
    {
      "cell_type": "code",
      "metadata": {
        "id": "SrvD5OsyN9Yd"
      },
      "source": [
        "vocab = set(itertools.chain.from_iterable(s for s in sentences_words)) \n",
        "tags = set(itertools.chain.from_iterable(s for s in sentences_tags))\n",
        "sentenecs_lens = list(map(len, sentences_words))"
      ],
      "execution_count": 28,
      "outputs": []
    },
    {
      "cell_type": "code",
      "metadata": {
        "id": "8lWlDsqEN9al"
      },
      "source": [
        "from keras.preprocessing.text import Tokenizer\n",
        "from keras.preprocessing.sequence import pad_sequences"
      ],
      "execution_count": 29,
      "outputs": []
    },
    {
      "cell_type": "code",
      "metadata": {
        "colab": {
          "base_uri": "https://localhost:8080/"
        },
        "id": "SF74JNY8N9dG",
        "outputId": "8bfc054a-f64f-4e5c-a299-df6c2d6daaea"
      },
      "source": [
        "words_tokenizer = Tokenizer(num_words=MAX_WORD_NUM)\n",
        "words_tokenizer.fit_on_texts(sentences_words)\n",
        "word_index = words_tokenizer.word_index\n",
        "max_in_len = max(len(s) for s in sentences_words)\n",
        "print(f\"Number of input tokens: {len(word_index)}\")\n",
        "print(f\"Maximum input sequence length: {max_in_len}\")"
      ],
      "execution_count": 30,
      "outputs": [
        {
          "output_type": "stream",
          "text": [
            "Number of input tokens: 31811\n",
            "Maximum input sequence length: 104\n"
          ],
          "name": "stdout"
        }
      ]
    },
    {
      "cell_type": "code",
      "metadata": {
        "id": "Uz2vNML_N9f1"
      },
      "source": [
        "words_seq = words_tokenizer.texts_to_sequences(sentences_words)"
      ],
      "execution_count": 31,
      "outputs": []
    },
    {
      "cell_type": "code",
      "metadata": {
        "id": "NQ0MZoJ9N9jZ"
      },
      "source": [
        "words_seq_pad = pad_sequences(words_seq, maxlen=max_in_len)"
      ],
      "execution_count": 32,
      "outputs": []
    },
    {
      "cell_type": "code",
      "metadata": {
        "colab": {
          "base_uri": "https://localhost:8080/"
        },
        "id": "yd28cATvOFhm",
        "outputId": "270b4c16-c68a-4719-c75f-f606f3018150"
      },
      "source": [
        "tags_tokenizer = Tokenizer(num_words=MAX_WORD_NUM, filters='')\n",
        "tags_tokenizer.fit_on_texts(sentences_tags)\n",
        "tag_index = tags_tokenizer.word_index\n",
        "max_out_len = max(len(s) for s in sentences_tags)\n",
        "out_word_num = len(tag_index) + 1\n",
        "print(f\"Number of output tokens: {len(tag_index)}\")\n",
        "print(\"Maximum output sequence length: {}\".format(max_out_len))"
      ],
      "execution_count": 33,
      "outputs": [
        {
          "output_type": "stream",
          "text": [
            "Number of output tokens: 17\n",
            "Maximum output sequence length: 104\n"
          ],
          "name": "stdout"
        }
      ]
    },
    {
      "cell_type": "code",
      "metadata": {
        "id": "EvVkne6lOFj5"
      },
      "source": [
        "tags_seq = tags_tokenizer.texts_to_sequences(sentences_tags)"
      ],
      "execution_count": 34,
      "outputs": []
    },
    {
      "cell_type": "code",
      "metadata": {
        "id": "_8PmQDCPOFnP"
      },
      "source": [
        "tags_seq_pad = pad_sequences(tags_seq, maxlen=max_out_len)"
      ],
      "execution_count": 35,
      "outputs": []
    },
    {
      "cell_type": "code",
      "metadata": {
        "id": "UNSekiKMSX9T"
      },
      "source": [
        "import tensorflow as tf\n",
        "from tensorflow import keras\n",
        "from tensorflow.keras import layers"
      ],
      "execution_count": 36,
      "outputs": []
    },
    {
      "cell_type": "code",
      "metadata": {
        "id": "JRwH1SQ2OjYm"
      },
      "source": [
        "class TransformerBlock(layers.Layer):\n",
        "    def __init__(self, embed_dim, num_heads, ff_dim, rate=0.1):\n",
        "        super(TransformerBlock, self).__init__()\n",
        "        self.att = layers.MultiHeadAttention(num_heads=num_heads, key_dim=embed_dim)\n",
        "        self.ffn = keras.Sequential(\n",
        "            [layers.Dense(ff_dim, activation=\"relu\"), layers.Dense(embed_dim),]\n",
        "        )\n",
        "        self.layernorm1 = layers.LayerNormalization(epsilon=1e-6)\n",
        "        self.layernorm2 = layers.LayerNormalization(epsilon=1e-6)\n",
        "        self.dropout1 = layers.Dropout(rate)\n",
        "        self.dropout2 = layers.Dropout(rate)\n",
        "\n",
        "    def call(self, inputs, training):\n",
        "        attn_output = self.att(inputs, inputs)\n",
        "        attn_output = self.dropout1(attn_output, training=training)\n",
        "        out1 = self.layernorm1(inputs + attn_output)\n",
        "        ffn_output = self.ffn(out1)\n",
        "        ffn_output = self.dropout2(ffn_output, training=training)\n",
        "        return self.layernorm2(out1 + ffn_output)\n"
      ],
      "execution_count": 37,
      "outputs": []
    },
    {
      "cell_type": "code",
      "metadata": {
        "id": "g9dMMHKjOzk1"
      },
      "source": [
        "class TokenAndPositionEmbedding(layers.Layer):\n",
        "    def __init__(self, maxlen, vocab_size, embed_dim):\n",
        "        super(TokenAndPositionEmbedding, self).__init__()\n",
        "        self.token_emb = layers.Embedding(input_dim=vocab_size, output_dim=embed_dim)\n",
        "        self.pos_emb = layers.Embedding(input_dim=maxlen, output_dim=embed_dim)\n",
        "\n",
        "    def call(self, x):\n",
        "        maxlen = tf.shape(x)[-1]\n",
        "        positions = tf.range(start=0, limit=maxlen, delta=1)\n",
        "        positions = self.pos_emb(positions)\n",
        "        x = self.token_emb(x)\n",
        "        return x + positions"
      ],
      "execution_count": 38,
      "outputs": []
    },
    {
      "cell_type": "code",
      "metadata": {
        "id": "CGUMFbj6OjbD"
      },
      "source": [
        "embed_dim = 32  # Embedding size for each token\n",
        "num_heads = 2  # Number of attention heads\n",
        "ff_dim = 32  # Hidden layer size in feed forward network inside transformer\n",
        "\n",
        "inputs = layers.Input(shape=(max_in_len,))\n",
        "embedding_layer = TokenAndPositionEmbedding(max_in_len, len(vocab), embed_dim)\n",
        "x = embedding_layer(inputs)\n",
        "transformer_block = TransformerBlock(embed_dim, num_heads, ff_dim)\n",
        "x = transformer_block(x)\n",
        "x = layers.GlobalAveragePooling1D()(x)\n",
        "x = layers.Dropout(0.1)(x)\n",
        "x = layers.Dense(20, activation=\"relu\")(x)\n",
        "x = layers.Dropout(0.1)(x)\n",
        "outputs = layers.Dense(104, activation=\"softmax\")(x)\n",
        "\n",
        "model = keras.Model(inputs=inputs, outputs=outputs)"
      ],
      "execution_count": 39,
      "outputs": []
    },
    {
      "cell_type": "code",
      "metadata": {
        "id": "UO048v5TOjdV"
      },
      "source": [
        "import keras.backend as K"
      ],
      "execution_count": 40,
      "outputs": []
    },
    {
      "cell_type": "code",
      "metadata": {
        "id": "mPymJqhPOjgu"
      },
      "source": [
        "def recall_m(y_true, y_pred):\n",
        "    true_positives = K.sum(K.round(K.clip(y_true * y_pred, 0, 1)))\n",
        "    possible_positives = K.sum(K.round(K.clip(y_true, 0, 1)))\n",
        "    recall = true_positives / (possible_positives + K.epsilon())\n",
        "    return recall\n",
        "\n",
        "def precision_m(y_true, y_pred):\n",
        "    true_positives = K.sum(K.round(K.clip(y_true * y_pred, 0, 1)))\n",
        "    predicted_positives = K.sum(K.round(K.clip(y_pred, 0, 1)))\n",
        "    precision = true_positives / (predicted_positives + K.epsilon())\n",
        "    return precision\n",
        "\n",
        "def f1_m(y_true, y_pred):\n",
        "    precision = precision_m(y_true, y_pred)\n",
        "    recall = recall_m(y_true, y_pred)\n",
        "    return 2*((precision*recall)/(precision+recall+K.epsilon()))"
      ],
      "execution_count": 41,
      "outputs": []
    },
    {
      "cell_type": "code",
      "metadata": {
        "colab": {
          "base_uri": "https://localhost:8080/"
        },
        "id": "q2_odtWLO5dK",
        "outputId": "b2560fa4-55c9-49e8-cd0f-7a3f154ffa75"
      },
      "source": [
        "model.compile(\"adam\", loss=tf.keras.losses.Poisson(), metrics=[\"accuracy\", recall_m, precision_m, f1_m])\n",
        "history = model.fit(\n",
        "    np.array(words_seq_pad), \n",
        "    np.array(tags_seq_pad), \n",
        "    batch_size=BATCHSIZE, \n",
        "    epochs=EPOCH,\n",
        "    validation_split=0.3,\n",
        ")"
      ],
      "execution_count": 42,
      "outputs": [
        {
          "output_type": "stream",
          "text": [
            "Epoch 1/10\n",
            "525/525 [==============================] - 53s 98ms/step - loss: 1.1938 - accuracy: 0.0552 - recall_m: 0.0056 - precision_m: 78057088.0000 - f1_m: 0.0112 - val_loss: 1.1196 - val_accuracy: 0.0643 - val_recall_m: 0.0075 - val_precision_m: 103244432.0000 - val_f1_m: 0.0149\n",
            "Epoch 2/10\n",
            "525/525 [==============================] - 51s 97ms/step - loss: 1.1159 - accuracy: 0.0657 - recall_m: 0.0076 - precision_m: 106057040.0000 - f1_m: 0.0153 - val_loss: 1.1023 - val_accuracy: 0.0683 - val_recall_m: 0.0073 - val_precision_m: 100355512.0000 - val_f1_m: 0.0145\n",
            "Epoch 3/10\n",
            "525/525 [==============================] - 51s 98ms/step - loss: 1.1066 - accuracy: 0.0728 - recall_m: 0.0077 - precision_m: 106857048.0000 - f1_m: 0.0154 - val_loss: 1.1000 - val_accuracy: 0.0718 - val_recall_m: 0.0073 - val_precision_m: 100800032.0000 - val_f1_m: 0.0146\n",
            "Epoch 4/10\n",
            "525/525 [==============================] - 51s 98ms/step - loss: 1.1027 - accuracy: 0.0763 - recall_m: 0.0079 - precision_m: 109542792.0000 - f1_m: 0.0158 - val_loss: 1.0989 - val_accuracy: 0.0737 - val_recall_m: 0.0078 - val_precision_m: 107733320.0000 - val_f1_m: 0.0156\n",
            "Epoch 5/10\n",
            "525/525 [==============================] - 51s 97ms/step - loss: 1.1009 - accuracy: 0.0773 - recall_m: 0.0079 - precision_m: 110114216.0000 - f1_m: 0.0158 - val_loss: 1.1000 - val_accuracy: 0.0721 - val_recall_m: 0.0082 - val_precision_m: 112622248.0000 - val_f1_m: 0.0163\n",
            "Epoch 6/10\n",
            "525/525 [==============================] - 51s 98ms/step - loss: 1.0996 - accuracy: 0.0772 - recall_m: 0.0080 - precision_m: 111580904.0000 - f1_m: 0.0160 - val_loss: 1.0996 - val_accuracy: 0.0729 - val_recall_m: 0.0085 - val_precision_m: 117288936.0000 - val_f1_m: 0.0170\n",
            "Epoch 7/10\n",
            "525/525 [==============================] - 51s 98ms/step - loss: 1.0979 - accuracy: 0.0801 - recall_m: 0.0083 - precision_m: 115161792.0000 - f1_m: 0.0166 - val_loss: 1.0983 - val_accuracy: 0.0811 - val_recall_m: 0.0076 - val_precision_m: 104755544.0000 - val_f1_m: 0.0152\n",
            "Epoch 8/10\n",
            "525/525 [==============================] - 52s 99ms/step - loss: 1.0968 - accuracy: 0.0792 - recall_m: 0.0084 - precision_m: 116971368.0000 - f1_m: 0.0168 - val_loss: 1.0991 - val_accuracy: 0.0764 - val_recall_m: 0.0084 - val_precision_m: 116488824.0000 - val_f1_m: 0.0169\n",
            "Epoch 9/10\n",
            "525/525 [==============================] - 52s 100ms/step - loss: 1.0961 - accuracy: 0.0833 - recall_m: 0.0085 - precision_m: 117942824.0000 - f1_m: 0.0170 - val_loss: 1.0995 - val_accuracy: 0.0778 - val_recall_m: 0.0085 - val_precision_m: 117377776.0000 - val_f1_m: 0.0170\n",
            "Epoch 10/10\n",
            "525/525 [==============================] - 52s 100ms/step - loss: 1.0954 - accuracy: 0.0852 - recall_m: 0.0086 - precision_m: 119447544.0000 - f1_m: 0.0172 - val_loss: 1.1054 - val_accuracy: 0.0766 - val_recall_m: 0.0091 - val_precision_m: 126000008.0000 - val_f1_m: 0.0183\n"
          ],
          "name": "stdout"
        }
      ]
    },
    {
      "cell_type": "code",
      "metadata": {
        "colab": {
          "base_uri": "https://localhost:8080/",
          "height": 524
        },
        "id": "pP4KVrsqU3dY",
        "outputId": "c086144c-9873-4489-ab5a-fa4bedefa4e3"
      },
      "source": [
        "plt.plot(history.history['loss'], label='loss')\n",
        "plt.plot(history.history['val_loss'], label='val_loss')\n",
        "plt.legend()\n",
        "plt.show()\n",
        "\n",
        "plt.plot(history.history['val_accuracy'], label='val_accuracy')\n",
        "plt.plot(history.history['val_recall_m'], label='val_recall_m')\n",
        "plt.plot(history.history['val_precision_m'], label='val_precision_m')\n",
        "plt.plot(history.history['val_f1_m'], label='val_f1_m')\n",
        "plt.plot(history.history['accuracy'], label='accuracy')\n",
        "plt.plot(history.history['recall_m'], label='recall_m')\n",
        "plt.plot(history.history['precision_m'], label='precision_m')\n",
        "plt.plot(history.history['f1_m'], label='f1_m')\n",
        "plt.legend()\n",
        "plt.show()"
      ],
      "execution_count": 45,
      "outputs": [
        {
          "output_type": "display_data",
          "data": {
            "image/png": "[encoded data removed]",
            "text/plain": [
              "<Figure size 432x288 with 1 Axes>"
            ]
          },
          "metadata": {
            "tags": [],
            "needs_background": "light"
          }
        },
        {
          "output_type": "display_data",
          "data": {
            "image/png": "[encoded data removed]",
            "text/plain": [
              "<Figure size 432x288 with 1 Axes>"
            ]
          },
          "metadata": {
            "tags": [],
            "needs_background": "light"
          }
        }
      ]
    }
  ]
}