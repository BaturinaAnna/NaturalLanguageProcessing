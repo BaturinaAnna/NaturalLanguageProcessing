{
  "nbformat": 4,
  "nbformat_minor": 0,
  "metadata": {
    "colab": {
      "name": "NER_seq2seq_attention.ipynb",
      "provenance": [],
      "collapsed_sections": []
    },
    "kernelspec": {
      "display_name": "Python 3",
      "language": "python",
      "name": "python3"
    },
    "language_info": {
      "codemirror_mode": {
        "name": "ipython",
        "version": 3
      },
      "file_extension": ".py",
      "mimetype": "text/x-python",
      "name": "python",
      "nbconvert_exporter": "python",
      "pygments_lexer": "ipython3",
      "version": "3.7.6"
    }
  },
  "cells": [
    {
      "cell_type": "code",
      "metadata": {
        "colab": {
          "base_uri": "https://localhost:8080/"
        },
        "id": "LWvwXfadBVkH",
        "outputId": "d59e7949-2e7e-4505-b5d5-194eac2b86c9"
      },
      "source": [
        "from google.colab import drive\n",
        "drive.mount(\"/content/drive\")"
      ],
      "execution_count": 1,
      "outputs": [
        {
          "output_type": "stream",
          "text": [
            "Mounted at /content/drive\n"
          ],
          "name": "stdout"
        }
      ]
    },
    {
      "cell_type": "code",
      "metadata": {
        "id": "eccFQFG7Jixg"
      },
      "source": [
        "import matplotlib.pyplot as plt\n",
        "import itertools\n",
        "import math\n",
        "import pandas as pd\n",
        "import os\n",
        "import numpy as np"
      ],
      "execution_count": 2,
      "outputs": []
    },
    {
      "cell_type": "code",
      "metadata": {
        "id": "uE-huvBDBfOn"
      },
      "source": [
        "ner_df = pd.read_csv('/content/drive/My Drive/datasets/ner_dataset.csv', engine='python', na_values='NaN')"
      ],
      "execution_count": 3,
      "outputs": []
    },
    {
      "cell_type": "code",
      "metadata": {
        "id": "coXl3bzcJrmB"
      },
      "source": [
        "BATCHSIZE = 64\n",
        "EPOCH = 10\n",
        "LATENT_DIM = 100\n",
        "LATENT_DIM_DECODER = LATENT_DIM\n",
        "SAMPLES = 10000\n",
        "MAX_WORD_NUM = SAMPLES\n",
        "MAX_SEQ_LEN = 100\n",
        "EMBEDDING = MAX_SEQ_LEN"
      ],
      "execution_count": 4,
      "outputs": []
    },
    {
      "cell_type": "code",
      "metadata": {
        "colab": {
          "base_uri": "https://localhost:8080/",
          "height": 399
        },
        "id": "vQk2VJKNJvAQ",
        "outputId": "7ed5e2f3-6912-4a68-9f70-9f1c9274a6df"
      },
      "source": [
        "ner_df"
      ],
      "execution_count": 5,
      "outputs": [
        {
          "output_type": "execute_result",
          "data": {
            "text/html": [
              "<div>\n",
              "<style scoped>\n",
              "    .dataframe tbody tr th:only-of-type {\n",
              "        vertical-align: middle;\n",
              "    }\n",
              "\n",
              "    .dataframe tbody tr th {\n",
              "        vertical-align: top;\n",
              "    }\n",
              "\n",
              "    .dataframe thead th {\n",
              "        text-align: right;\n",
              "    }\n",
              "</style>\n",
              "<table border=\"1\" class=\"dataframe\">\n",
              "  <thead>\n",
              "    <tr style=\"text-align: right;\">\n",
              "      <th></th>\n",
              "      <th>Sentence #</th>\n",
              "      <th>Word</th>\n",
              "      <th>POS</th>\n",
              "      <th>Tag</th>\n",
              "    </tr>\n",
              "  </thead>\n",
              "  <tbody>\n",
              "    <tr>\n",
              "      <th>0</th>\n",
              "      <td>Sentence: 1</td>\n",
              "      <td>Thousands</td>\n",
              "      <td>NNS</td>\n",
              "      <td>O</td>\n",
              "    </tr>\n",
              "    <tr>\n",
              "      <th>1</th>\n",
              "      <td>NaN</td>\n",
              "      <td>of</td>\n",
              "      <td>IN</td>\n",
              "      <td>O</td>\n",
              "    </tr>\n",
              "    <tr>\n",
              "      <th>2</th>\n",
              "      <td>NaN</td>\n",
              "      <td>demonstrators</td>\n",
              "      <td>NNS</td>\n",
              "      <td>O</td>\n",
              "    </tr>\n",
              "    <tr>\n",
              "      <th>3</th>\n",
              "      <td>NaN</td>\n",
              "      <td>have</td>\n",
              "      <td>VBP</td>\n",
              "      <td>O</td>\n",
              "    </tr>\n",
              "    <tr>\n",
              "      <th>4</th>\n",
              "      <td>NaN</td>\n",
              "      <td>marched</td>\n",
              "      <td>VBN</td>\n",
              "      <td>O</td>\n",
              "    </tr>\n",
              "    <tr>\n",
              "      <th>...</th>\n",
              "      <td>...</td>\n",
              "      <td>...</td>\n",
              "      <td>...</td>\n",
              "      <td>...</td>\n",
              "    </tr>\n",
              "    <tr>\n",
              "      <th>1048570</th>\n",
              "      <td>NaN</td>\n",
              "      <td>they</td>\n",
              "      <td>PRP</td>\n",
              "      <td>O</td>\n",
              "    </tr>\n",
              "    <tr>\n",
              "      <th>1048571</th>\n",
              "      <td>NaN</td>\n",
              "      <td>responded</td>\n",
              "      <td>VBD</td>\n",
              "      <td>O</td>\n",
              "    </tr>\n",
              "    <tr>\n",
              "      <th>1048572</th>\n",
              "      <td>NaN</td>\n",
              "      <td>to</td>\n",
              "      <td>TO</td>\n",
              "      <td>O</td>\n",
              "    </tr>\n",
              "    <tr>\n",
              "      <th>1048573</th>\n",
              "      <td>NaN</td>\n",
              "      <td>the</td>\n",
              "      <td>DT</td>\n",
              "      <td>O</td>\n",
              "    </tr>\n",
              "    <tr>\n",
              "      <th>1048574</th>\n",
              "      <td>NaN</td>\n",
              "      <td>attack</td>\n",
              "      <td>NN</td>\n",
              "      <td>O</td>\n",
              "    </tr>\n",
              "  </tbody>\n",
              "</table>\n",
              "<p>1048575 rows × 4 columns</p>\n",
              "</div>"
            ],
            "text/plain": [
              "          Sentence #           Word  POS Tag\n",
              "0        Sentence: 1      Thousands  NNS   O\n",
              "1                NaN             of   IN   O\n",
              "2                NaN  demonstrators  NNS   O\n",
              "3                NaN           have  VBP   O\n",
              "4                NaN        marched  VBN   O\n",
              "...              ...            ...  ...  ..\n",
              "1048570          NaN           they  PRP   O\n",
              "1048571          NaN      responded  VBD   O\n",
              "1048572          NaN             to   TO   O\n",
              "1048573          NaN            the   DT   O\n",
              "1048574          NaN         attack   NN   O\n",
              "\n",
              "[1048575 rows x 4 columns]"
            ]
          },
          "metadata": {
            "tags": []
          },
          "execution_count": 5
        }
      ]
    },
    {
      "cell_type": "code",
      "metadata": {
        "id": "_EGMXsImJvrg"
      },
      "source": [
        "sentences_words = []\n",
        "sentences_tags = []\n",
        "current_sentence_words = []\n",
        "current_sentence_tags = []\n",
        "for sent_num, word, tag in ner_df[['Sentence #', 'Word', 'Tag']].values: \n",
        "    if pd.notna(sent_num) and current_sentence_words and current_sentence_tags:\n",
        "            sentences_words.append(current_sentence_words)\n",
        "            sentences_tags.append(current_sentence_tags)\n",
        "            current_sentence_words = []\n",
        "            current_sentence_tags = []\n",
        "    current_sentence_words.append(word)\n",
        "    current_sentence_tags.append(tag)"
      ],
      "execution_count": 6,
      "outputs": []
    },
    {
      "cell_type": "code",
      "metadata": {
        "id": "-0ECzr-VJyg_"
      },
      "source": [
        "vocab = set(itertools.chain.from_iterable(s for s in sentences_words)) \n",
        "tags = set(itertools.chain.from_iterable(s for s in sentences_tags))\n",
        "sentenecs_lens = list(map(len, sentences_words))"
      ],
      "execution_count": 7,
      "outputs": []
    },
    {
      "cell_type": "code",
      "metadata": {
        "id": "mN_nSg9BJ1Fv"
      },
      "source": [
        "from keras.preprocessing.text import Tokenizer\n",
        "from keras.preprocessing.sequence import pad_sequences"
      ],
      "execution_count": 8,
      "outputs": []
    },
    {
      "cell_type": "code",
      "metadata": {
        "colab": {
          "base_uri": "https://localhost:8080/"
        },
        "id": "qRyfqSapJ41_",
        "outputId": "fafd65d1-4017-4544-c05b-0fb2cbcf9a8f"
      },
      "source": [
        "words_tokenizer = Tokenizer(num_words=MAX_WORD_NUM)\n",
        "words_tokenizer.fit_on_texts(sentences_words)\n",
        "word_index = words_tokenizer.word_index\n",
        "max_in_len = max(len(s) for s in sentences_words)\n",
        "print(f\"Number of input tokens: {len(word_index)}\")\n",
        "print(f\"Maximum input sequence length: {max_in_len}\")"
      ],
      "execution_count": 9,
      "outputs": [
        {
          "output_type": "stream",
          "text": [
            "Number of input tokens: 31811\n",
            "Maximum input sequence length: 104\n"
          ],
          "name": "stdout"
        }
      ]
    },
    {
      "cell_type": "code",
      "metadata": {
        "id": "s9Nu8HahJ6pO"
      },
      "source": [
        "words_seq = words_tokenizer.texts_to_sequences(sentences_words)"
      ],
      "execution_count": 10,
      "outputs": []
    },
    {
      "cell_type": "code",
      "metadata": {
        "id": "sz-vneesJ8be"
      },
      "source": [
        "words_seq_pad = pad_sequences(words_seq, maxlen=max_in_len)"
      ],
      "execution_count": 11,
      "outputs": []
    },
    {
      "cell_type": "code",
      "metadata": {
        "colab": {
          "base_uri": "https://localhost:8080/"
        },
        "id": "JdLlpageJ-I_",
        "outputId": "f1ee9ec5-1ac4-4d51-84c1-78f3cd896a07"
      },
      "source": [
        "tags_tokenizer = Tokenizer(num_words=MAX_WORD_NUM, filters='')\n",
        "tags_tokenizer.fit_on_texts(sentences_tags)\n",
        "tag_index = tags_tokenizer.word_index\n",
        "max_out_len = max(len(s) for s in sentences_tags)\n",
        "out_word_num = len(tag_index) + 1\n",
        "print(f\"Number of output tokens: {len(tag_index)}\")\n",
        "print(\"Maximum output sequence length: {}\".format(max_out_len))"
      ],
      "execution_count": 12,
      "outputs": [
        {
          "output_type": "stream",
          "text": [
            "Number of output tokens: 17\n",
            "Maximum output sequence length: 104\n"
          ],
          "name": "stdout"
        }
      ]
    },
    {
      "cell_type": "code",
      "metadata": {
        "id": "pNiEabfsKA3e"
      },
      "source": [
        "tags_seq = tags_tokenizer.texts_to_sequences(sentences_tags)"
      ],
      "execution_count": 13,
      "outputs": []
    },
    {
      "cell_type": "code",
      "metadata": {
        "id": "H2gpR-VdKEFu"
      },
      "source": [
        "tags_seq_pad = pad_sequences(tags_seq, maxlen=max_out_len)"
      ],
      "execution_count": 14,
      "outputs": []
    },
    {
      "cell_type": "code",
      "metadata": {
        "colab": {
          "base_uri": "https://localhost:8080/"
        },
        "id": "S7dQW13qKHN_",
        "outputId": "9e1c6c1b-4bb6-49b6-cf65-db013e92ad49"
      },
      "source": [
        "wordVec = {}\n",
        "print('Loading wordVec')\n",
        "with open('/content/drive/My Drive/datasets/glove.6B.100d.txt', encoding=\"utf8\") as f:\n",
        "    for line in f:\n",
        "        data = line.split()\n",
        "        word = data[0]\n",
        "        vec = np.asarray(data[1:], dtype='float32')\n",
        "        wordVec[word] = vec\n",
        "print('Finished loading wordVec.')"
      ],
      "execution_count": 15,
      "outputs": [
        {
          "output_type": "stream",
          "text": [
            "Loading wordVec\n",
            "Finished loading wordVec.\n"
          ],
          "name": "stdout"
        }
      ]
    },
    {
      "cell_type": "code",
      "metadata": {
        "id": "5JVAjfzGKXMe"
      },
      "source": [
        "wordNum = min(MAX_WORD_NUM, len(word_index) + 1)\n",
        "word_embedding = np.zeros((wordNum, EMBEDDING))\n",
        "\n",
        "for tok, idx in word_index.items():\n",
        "    if idx < MAX_WORD_NUM:\n",
        "        word_vector = wordVec.get(tok)\n",
        "        if word_vector is not None:\n",
        "            word_embedding[idx] = word_vector"
      ],
      "execution_count": 16,
      "outputs": []
    },
    {
      "cell_type": "code",
      "metadata": {
        "id": "mSVS4w42KdEB"
      },
      "source": [
        "man_target_one_hot = np.zeros((len(sentences_words), max_out_len, out_word_num), dtype='float32')\n",
        "\n",
        "for idx, tokVec in enumerate(tags_seq_pad):\n",
        "    for tok_idx, tok in enumerate(tokVec):\n",
        "        if (tok > 0):\n",
        "            man_target_one_hot[idx, tok_idx, tok] = 1"
      ],
      "execution_count": 17,
      "outputs": []
    },
    {
      "cell_type": "code",
      "metadata": {
        "id": "RNqW-dlLKg4e"
      },
      "source": [
        "from keras.layers import Embedding, Input, LSTM, GRU, Dense, Bidirectional, RepeatVector, Concatenate, Activation, Dot, Lambda\n",
        "import keras.backend as K\n",
        "from keras.models import Model"
      ],
      "execution_count": 18,
      "outputs": []
    },
    {
      "cell_type": "code",
      "metadata": {
        "id": "nfOz40rSKnPO"
      },
      "source": [
        "# Embedding\n",
        "embedding = Embedding(wordNum, EMBEDDING, weights=[word_embedding], input_length=max_in_len)\n",
        "\n",
        "# Encoder\n",
        "input_layer_encoder = Input(shape=(max_in_len,))\n",
        "embed_encoder = embedding(input_layer_encoder)\n",
        "encoder = Bidirectional(LSTM(LATENT_DIM, return_sequences=True, dropout=0.2))\n",
        "encoder_out = encoder(embed_encoder)\n",
        "\n",
        "# Decoder input\n",
        "input_layer_decoder = Input(shape=(max_out_len,))\n",
        "embed_decoder = Embedding(out_word_num, EMBEDDING)\n",
        "decoder_input = embed_decoder(input_layer_decoder)\n",
        "\n",
        "# Decoder output, after attention\n",
        "decoder = LSTM(LATENT_DIM_DECODER, return_state=True)\n",
        "dense_decode = Dense(out_word_num, activation='softmax')\n",
        "s0 = Input(shape=(LATENT_DIM_DECODER,))\n",
        "c0 = Input(shape=(LATENT_DIM_DECODER,))"
      ],
      "execution_count": 19,
      "outputs": []
    },
    {
      "cell_type": "code",
      "metadata": {
        "id": "y48Ipd4cKwj6"
      },
      "source": [
        "# Dimension of x is N x T x D.\n",
        "def softmax(x):\n",
        "    assert(K.ndim(x) > 2)\n",
        "    e = K.exp(x - K.max(x, axis=1, keepdims=True))\n",
        "    s = K.sum(e, axis=1, keepdims=True)\n",
        "    return e / s\n",
        "\n",
        "repeat_attn = RepeatVector(max_in_len)\n",
        "concat_attn = Concatenate(axis=-1)\n",
        "dense1_attn = Dense(10, activation='tanh')\n",
        "# dense1_attn = Dense(5, activation='tanh') \n",
        "dense2_attn = Dense(1, activation=softmax)\n",
        "dot_attn = Dot(axes=1)                      \n",
        "\n",
        "def iterAttn(h, prevOut):\n",
        "    prevOutRepeat = repeat_attn(prevOut)\n",
        "    total = concat_attn([h, prevOutRepeat])\n",
        "    d = dense1_attn(total)\n",
        "    alphaLayer = dense2_attn(d)\n",
        "    context = dot_attn([alphaLayer, h])\n",
        "    \n",
        "    return context"
      ],
      "execution_count": 20,
      "outputs": []
    },
    {
      "cell_type": "code",
      "metadata": {
        "id": "9YfBA1M6bOVC"
      },
      "source": [
        "s = s0\n",
        "c = c0\n",
        "\n",
        "all_out = []\n",
        "for t in range(max_out_len):\n",
        "    context = iterAttn(encoder_out, s) \n",
        "    \n",
        "    select_layer = Lambda(lambda x: x[:, t:t+1])\n",
        "    prevWord = select_layer(decoder_input)\n",
        "    \n",
        "    concat2 = Concatenate(axis=2)\n",
        "    decoder_in_concat = concat2([context, prevWord])\n",
        "    \n",
        "    pred, s, c = decoder(decoder_in_concat, initial_state=[s, c])\n",
        "    pred = dense_decode(pred)\n",
        "    all_out.append(pred)"
      ],
      "execution_count": 21,
      "outputs": []
    },
    {
      "cell_type": "code",
      "metadata": {
        "id": "Q_82l4TAbSQB"
      },
      "source": [
        "def stack(outputs):\n",
        "    outputs = K.stack(outputs)\n",
        "    return K.permute_dimensions(outputs, pattern=(1, 0, 2))\n",
        "\n",
        "stack_layer = Lambda(stack)\n",
        "all_out = stack_layer(all_out)"
      ],
      "execution_count": 22,
      "outputs": []
    },
    {
      "cell_type": "code",
      "metadata": {
        "id": "CEPCyvx9bVah"
      },
      "source": [
        "attnModel = Model(inputs=[input_layer_encoder, input_layer_decoder, s0, c0,],\n",
        "                 outputs=all_out)"
      ],
      "execution_count": 23,
      "outputs": []
    },
    {
      "cell_type": "code",
      "metadata": {
        "id": "hqIdZ6Afc4rN"
      },
      "source": [
        "def myLoss(y_train, pred):\n",
        "    mask = K.cast(y_train > 0, dtype='float32')\n",
        "    val = mask * y_train * K.log(pred)\n",
        "    return -K.sum(val) / K.sum(mask)\n",
        "\n",
        "def acc(y_train, pred):\n",
        "    targ = K.argmax(y_train, axis=-1)\n",
        "    pred = K.argmax(pred, axis=-1)\n",
        "    correct = K.cast(K.equal(targ, pred), dtype='float32')\n",
        "\n",
        "    mask = K.cast(K.greater(targ, 0), dtype='float32')\n",
        "    correctCount = K.sum(mask * correct)\n",
        "    totalCount = K.sum(mask)\n",
        "    return correctCount / totalCount"
      ],
      "execution_count": 24,
      "outputs": []
    },
    {
      "cell_type": "code",
      "metadata": {
        "colab": {
          "base_uri": "https://localhost:8080/"
        },
        "id": "WQQaFe1ZeqUw",
        "outputId": "ffa79e93-6a33-4de0-b0da-a23edc53fae8"
      },
      "source": [
        "attnModel.compile(optimizer='adam', loss=myLoss, metrics=[acc])\n",
        "\n",
        "init_s = np.zeros((len(words_seq_pad), LATENT_DIM_DECODER))\n",
        "init_c = np.zeros((len(words_seq_pad), LATENT_DIM_DECODER))\n",
        "\n",
        "history = attnModel.fit(\n",
        "    x=[words_seq_pad, tags_seq_pad, init_s, init_c],\n",
        "    y=man_target_one_hot,\n",
        "    batch_size=BATCHSIZE,\n",
        "    epochs=EPOCH,\n",
        "    validation_split=0.2\n",
        ")"
      ],
      "execution_count": 25,
      "outputs": [
        {
          "output_type": "stream",
          "text": [
            "Epoch 1/10\n",
            "600/600 [==============================] - 1733s 3s/step - loss: 0.8080 - acc: 0.8377 - val_loss: 0.6521 - val_acc: 0.8463\n",
            "Epoch 2/10\n",
            "600/600 [==============================] - 1598s 3s/step - loss: 0.6444 - acc: 0.8475 - val_loss: 0.6302 - val_acc: 0.8463\n",
            "Epoch 3/10\n",
            "600/600 [==============================] - 1625s 3s/step - loss: 0.6248 - acc: 0.8475 - val_loss: 0.6258 - val_acc: 0.8463\n",
            "Epoch 4/10\n",
            "600/600 [==============================] - 1642s 3s/step - loss: 0.6170 - acc: 0.8469 - val_loss: 0.6197 - val_acc: 0.8463\n",
            "Epoch 5/10\n",
            "600/600 [==============================] - 1635s 3s/step - loss: 0.6104 - acc: 0.8470 - val_loss: 0.6181 - val_acc: 0.8463\n",
            "Epoch 6/10\n",
            "600/600 [==============================] - 1628s 3s/step - loss: 0.6106 - acc: 0.8453 - val_loss: 0.6169 - val_acc: 0.8463\n",
            "Epoch 7/10\n",
            "600/600 [==============================] - 1622s 3s/step - loss: 0.6020 - acc: 0.8466 - val_loss: 0.6170 - val_acc: 0.8463\n",
            "Epoch 8/10\n",
            "600/600 [==============================] - 1629s 3s/step - loss: 0.5953 - acc: 0.8474 - val_loss: 0.6207 - val_acc: 0.8463\n",
            "Epoch 9/10\n",
            "600/600 [==============================] - 1634s 3s/step - loss: 0.5941 - acc: 0.8465 - val_loss: 0.6217 - val_acc: 0.8463\n",
            "Epoch 10/10\n",
            "600/600 [==============================] - 1628s 3s/step - loss: 0.5896 - acc: 0.8474 - val_loss: 0.6196 - val_acc: 0.8463\n"
          ],
          "name": "stdout"
        }
      ]
    },
    {
      "cell_type": "code",
      "metadata": {
        "colab": {
          "base_uri": "https://localhost:8080/",
          "height": 514
        },
        "id": "M4QRV7RtHlME",
        "outputId": "61f621f4-1dff-4867-d62a-9e45c1221bd2"
      },
      "source": [
        "plt.plot(history.history['loss'], label='loss')\n",
        "plt.plot(history.history['val_loss'], label='val_loss')\n",
        "plt.legend()\n",
        "plt.show()\n",
        "\n",
        "plt.plot(history.history['acc'], label='acc')\n",
        "plt.plot(history.history['val_acc'], label='val_acc')\n",
        "plt.legend()\n",
        "plt.show()"
      ],
      "execution_count": 26,
      "outputs": [
        {
          "output_type": "display_data",
          "data": {
            "image/png": "[encoded data removed]",
            "text/plain": [
              "<Figure size 432x288 with 1 Axes>"
            ]
          },
          "metadata": {
            "tags": [],
            "needs_background": "light"
          }
        },
        {
          "output_type": "display_data",
          "data": {
            "image/png": "[encoded data removed]",
            "text/plain": [
              "<Figure size 432x288 with 1 Axes>"
            ]
          },
          "metadata": {
            "tags": [],
            "needs_background": "light"
          }
        }
      ]
    }
  ]
}