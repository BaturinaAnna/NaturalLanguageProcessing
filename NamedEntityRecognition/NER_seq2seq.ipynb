{
  "nbformat": 4,
  "nbformat_minor": 0,
  "metadata": {
    "colab": {
      "name": "NER_seq2seq.ipynb",
      "provenance": [],
      "collapsed_sections": []
    },
    "kernelspec": {
      "name": "python3",
      "display_name": "Python 3"
    },
    "language_info": {
      "name": "python"
    }
  },
  "cells": [
    {
      "cell_type": "code",
      "metadata": {
        "colab": {
          "base_uri": "https://localhost:8080/"
        },
        "id": "2p7Cgu57YJjH",
        "outputId": "06287a7b-596a-4b0d-8219-05217a1b17ae"
      },
      "source": [
        "from google.colab import drive\n",
        "drive.mount(\"/content/drive\")"
      ],
      "execution_count": 23,
      "outputs": [
        {
          "output_type": "stream",
          "text": [
            "Drive already mounted at /content/drive; to attempt to forcibly remount, call drive.mount(\"/content/drive\", force_remount=True).\n"
          ],
          "name": "stdout"
        }
      ]
    },
    {
      "cell_type": "code",
      "metadata": {
        "id": "QrvTPhcjQ4nX"
      },
      "source": [
        "import matplotlib.pyplot as plt\n",
        "import itertools\n",
        "import math\n",
        "import pandas as pd\n",
        "import os\n",
        "import numpy as np"
      ],
      "execution_count": 24,
      "outputs": []
    },
    {
      "cell_type": "code",
      "metadata": {
        "id": "p8HqoKhbW2GZ"
      },
      "source": [
        "BATCHSIZE = 64\n",
        "EPOCH = 10\n",
        "LATENT_DIM = 100\n",
        "LATENT_DIM_DECODER = LATENT_DIM\n",
        "SAMPLES = 10000\n",
        "MAX_WORD_NUM = SAMPLES\n",
        "MAX_SEQ_LEN = 100\n",
        "EMBEDDING = MAX_SEQ_LEN"
      ],
      "execution_count": 25,
      "outputs": []
    },
    {
      "cell_type": "code",
      "metadata": {
        "id": "80hd4jr4Q6Pl"
      },
      "source": [
        "ner_df = pd.read_csv('/content/drive/My Drive/datasets/ner_dataset.csv', engine='python', na_values='NaN')"
      ],
      "execution_count": 26,
      "outputs": []
    },
    {
      "cell_type": "code",
      "metadata": {
        "colab": {
          "base_uri": "https://localhost:8080/",
          "height": 399
        },
        "id": "9utrVlpATm7j",
        "outputId": "350ed423-9edb-4c12-9b2d-921500455e89"
      },
      "source": [
        "ner_df"
      ],
      "execution_count": 27,
      "outputs": [
        {
          "output_type": "execute_result",
          "data": {
            "text/html": [
              "<div>\n",
              "<style scoped>\n",
              "    .dataframe tbody tr th:only-of-type {\n",
              "        vertical-align: middle;\n",
              "    }\n",
              "\n",
              "    .dataframe tbody tr th {\n",
              "        vertical-align: top;\n",
              "    }\n",
              "\n",
              "    .dataframe thead th {\n",
              "        text-align: right;\n",
              "    }\n",
              "</style>\n",
              "<table border=\"1\" class=\"dataframe\">\n",
              "  <thead>\n",
              "    <tr style=\"text-align: right;\">\n",
              "      <th></th>\n",
              "      <th>Sentence #</th>\n",
              "      <th>Word</th>\n",
              "      <th>POS</th>\n",
              "      <th>Tag</th>\n",
              "    </tr>\n",
              "  </thead>\n",
              "  <tbody>\n",
              "    <tr>\n",
              "      <th>0</th>\n",
              "      <td>Sentence: 1</td>\n",
              "      <td>Thousands</td>\n",
              "      <td>NNS</td>\n",
              "      <td>O</td>\n",
              "    </tr>\n",
              "    <tr>\n",
              "      <th>1</th>\n",
              "      <td>NaN</td>\n",
              "      <td>of</td>\n",
              "      <td>IN</td>\n",
              "      <td>O</td>\n",
              "    </tr>\n",
              "    <tr>\n",
              "      <th>2</th>\n",
              "      <td>NaN</td>\n",
              "      <td>demonstrators</td>\n",
              "      <td>NNS</td>\n",
              "      <td>O</td>\n",
              "    </tr>\n",
              "    <tr>\n",
              "      <th>3</th>\n",
              "      <td>NaN</td>\n",
              "      <td>have</td>\n",
              "      <td>VBP</td>\n",
              "      <td>O</td>\n",
              "    </tr>\n",
              "    <tr>\n",
              "      <th>4</th>\n",
              "      <td>NaN</td>\n",
              "      <td>marched</td>\n",
              "      <td>VBN</td>\n",
              "      <td>O</td>\n",
              "    </tr>\n",
              "    <tr>\n",
              "      <th>...</th>\n",
              "      <td>...</td>\n",
              "      <td>...</td>\n",
              "      <td>...</td>\n",
              "      <td>...</td>\n",
              "    </tr>\n",
              "    <tr>\n",
              "      <th>1048570</th>\n",
              "      <td>NaN</td>\n",
              "      <td>they</td>\n",
              "      <td>PRP</td>\n",
              "      <td>O</td>\n",
              "    </tr>\n",
              "    <tr>\n",
              "      <th>1048571</th>\n",
              "      <td>NaN</td>\n",
              "      <td>responded</td>\n",
              "      <td>VBD</td>\n",
              "      <td>O</td>\n",
              "    </tr>\n",
              "    <tr>\n",
              "      <th>1048572</th>\n",
              "      <td>NaN</td>\n",
              "      <td>to</td>\n",
              "      <td>TO</td>\n",
              "      <td>O</td>\n",
              "    </tr>\n",
              "    <tr>\n",
              "      <th>1048573</th>\n",
              "      <td>NaN</td>\n",
              "      <td>the</td>\n",
              "      <td>DT</td>\n",
              "      <td>O</td>\n",
              "    </tr>\n",
              "    <tr>\n",
              "      <th>1048574</th>\n",
              "      <td>NaN</td>\n",
              "      <td>attack</td>\n",
              "      <td>NN</td>\n",
              "      <td>O</td>\n",
              "    </tr>\n",
              "  </tbody>\n",
              "</table>\n",
              "<p>1048575 rows × 4 columns</p>\n",
              "</div>"
            ],
            "text/plain": [
              "          Sentence #           Word  POS Tag\n",
              "0        Sentence: 1      Thousands  NNS   O\n",
              "1                NaN             of   IN   O\n",
              "2                NaN  demonstrators  NNS   O\n",
              "3                NaN           have  VBP   O\n",
              "4                NaN        marched  VBN   O\n",
              "...              ...            ...  ...  ..\n",
              "1048570          NaN           they  PRP   O\n",
              "1048571          NaN      responded  VBD   O\n",
              "1048572          NaN             to   TO   O\n",
              "1048573          NaN            the   DT   O\n",
              "1048574          NaN         attack   NN   O\n",
              "\n",
              "[1048575 rows x 4 columns]"
            ]
          },
          "metadata": {
            "tags": []
          },
          "execution_count": 27
        }
      ]
    },
    {
      "cell_type": "code",
      "metadata": {
        "id": "fa9P3bSuTlmR"
      },
      "source": [
        "sentences_words = []\n",
        "sentences_tags = []\n",
        "current_sentence_words = []\n",
        "current_sentence_tags = []\n",
        "for sent_num, word, tag in ner_df[['Sentence #', 'Word', 'Tag']].values: \n",
        "    if pd.notna(sent_num) and current_sentence_words and current_sentence_tags:\n",
        "            sentences_words.append(current_sentence_words)\n",
        "            sentences_tags.append(current_sentence_tags)\n",
        "            current_sentence_words = []\n",
        "            current_sentence_tags = []\n",
        "    current_sentence_words.append(word)\n",
        "    current_sentence_tags.append(tag)"
      ],
      "execution_count": 28,
      "outputs": []
    },
    {
      "cell_type": "code",
      "metadata": {
        "id": "ZQsed6GSVyWp"
      },
      "source": [
        "vocab = set(itertools.chain.from_iterable(s for s in sentences_words)) \n",
        "tags = set(itertools.chain.from_iterable(s for s in sentences_tags))\n",
        "sentenecs_lens = list(map(len, sentences_words))"
      ],
      "execution_count": 29,
      "outputs": []
    },
    {
      "cell_type": "code",
      "metadata": {
        "id": "r6S5SPgqVyZE"
      },
      "source": [
        "from keras.preprocessing.text import Tokenizer\n",
        "from keras.preprocessing.sequence import pad_sequences"
      ],
      "execution_count": 30,
      "outputs": []
    },
    {
      "cell_type": "code",
      "metadata": {
        "colab": {
          "base_uri": "https://localhost:8080/"
        },
        "id": "2UbP1wxDVybK",
        "outputId": "d421ad77-6393-4788-81d7-28a64ba3ccbd"
      },
      "source": [
        "words_tokenizer = Tokenizer(num_words=MAX_WORD_NUM)\n",
        "words_tokenizer.fit_on_texts(sentences_words)\n",
        "word_index = words_tokenizer.word_index\n",
        "max_in_len = max(len(s) for s in sentences_words)\n",
        "print(f\"Number of input tokens: {len(word_index)}\")\n",
        "print(f\"Maximum input sequence length: {max_in_len}\")"
      ],
      "execution_count": 31,
      "outputs": [
        {
          "output_type": "stream",
          "text": [
            "Number of input tokens: 31811\n",
            "Maximum input sequence length: 104\n"
          ],
          "name": "stdout"
        }
      ]
    },
    {
      "cell_type": "code",
      "metadata": {
        "id": "7CJhlw_SVydg"
      },
      "source": [
        "words_seq = words_tokenizer.texts_to_sequences(sentences_words)"
      ],
      "execution_count": 32,
      "outputs": []
    },
    {
      "cell_type": "code",
      "metadata": {
        "id": "4hjwE2HXVyf-"
      },
      "source": [
        "words_seq_pad = pad_sequences(words_seq, maxlen=max_in_len)"
      ],
      "execution_count": 33,
      "outputs": []
    },
    {
      "cell_type": "code",
      "metadata": {
        "colab": {
          "base_uri": "https://localhost:8080/"
        },
        "id": "qqf2_Jd4VyiN",
        "outputId": "867f0c47-819d-4daa-8879-1ebb302e741a"
      },
      "source": [
        "tags_tokenizer = Tokenizer(num_words=MAX_WORD_NUM, filters='')\n",
        "tags_tokenizer.fit_on_texts(sentences_tags)\n",
        "tag_index = tags_tokenizer.word_index\n",
        "max_out_len = max(len(s) for s in sentences_tags)\n",
        "out_word_num = len(tag_index) + 1\n",
        "print(f\"Number of output tokens: {len(tag_index)}\")\n",
        "print(\"Maximum output sequence length: {}\".format(max_out_len))"
      ],
      "execution_count": 34,
      "outputs": [
        {
          "output_type": "stream",
          "text": [
            "Number of output tokens: 17\n",
            "Maximum output sequence length: 104\n"
          ],
          "name": "stdout"
        }
      ]
    },
    {
      "cell_type": "code",
      "metadata": {
        "id": "gJtt5IGwVykc"
      },
      "source": [
        "tags_seq = tags_tokenizer.texts_to_sequences(sentences_tags)"
      ],
      "execution_count": 35,
      "outputs": []
    },
    {
      "cell_type": "code",
      "metadata": {
        "id": "8SFPGB_EVymY"
      },
      "source": [
        "tags_seq_pad = pad_sequences(tags_seq, maxlen=max_out_len)"
      ],
      "execution_count": 36,
      "outputs": []
    },
    {
      "cell_type": "code",
      "metadata": {
        "colab": {
          "base_uri": "https://localhost:8080/"
        },
        "id": "JMOGxiyLVyoq",
        "outputId": "7067f6d1-9e1e-4526-c6d0-cf34542b6625"
      },
      "source": [
        "wordVec = {}\n",
        "print('Loading wordVec')\n",
        "with open('/content/drive/My Drive/datasets/glove.6B.100d.txt', encoding=\"utf8\") as f:\n",
        "    for line in f:\n",
        "        data = line.split()\n",
        "        word = data[0]\n",
        "        vec = np.asarray(data[1:], dtype='float32')\n",
        "        wordVec[word] = vec\n",
        "print('Finished loading wordVec.')"
      ],
      "execution_count": 37,
      "outputs": [
        {
          "output_type": "stream",
          "text": [
            "Loading wordVec\n",
            "Finished loading wordVec.\n"
          ],
          "name": "stdout"
        }
      ]
    },
    {
      "cell_type": "code",
      "metadata": {
        "id": "g1-1BtkrVyqy"
      },
      "source": [
        "wordNum = min(MAX_WORD_NUM, len(word_index) + 1)\n",
        "word_embedding = np.zeros((wordNum, EMBEDDING))\n",
        "\n",
        "for tok, idx in word_index.items():\n",
        "    if idx < MAX_WORD_NUM:\n",
        "        word_vector = wordVec.get(tok)\n",
        "        if word_vector is not None:\n",
        "            word_embedding[idx] = word_vector"
      ],
      "execution_count": 38,
      "outputs": []
    },
    {
      "cell_type": "code",
      "metadata": {
        "id": "U63CuRchVyua"
      },
      "source": [
        "man_target_one_hot = np.zeros((len(sentences_words), max_out_len, out_word_num), dtype='float32')\n",
        "\n",
        "for idx, tokVec in enumerate(tags_seq_pad):\n",
        "    for tok_idx, tok in enumerate(tokVec):\n",
        "        if (tok > 0):\n",
        "            man_target_one_hot[idx, tok_idx, tok] = 1"
      ],
      "execution_count": 39,
      "outputs": []
    },
    {
      "cell_type": "code",
      "metadata": {
        "id": "EK909aWUWM6r"
      },
      "source": [
        "from keras.layers import Embedding, Input, LSTM, GRU, Dense, Bidirectional, RepeatVector, Concatenate, Activation, Dot, Lambda, TimeDistributed\n",
        "import keras.backend as K\n",
        "from keras.models import Model"
      ],
      "execution_count": 40,
      "outputs": []
    },
    {
      "cell_type": "code",
      "metadata": {
        "id": "LGZrwyPuWM9N"
      },
      "source": [
        "embedding = Embedding(wordNum, EMBEDDING, weights=[word_embedding], input_length=max_in_len)\n",
        "\n",
        "encoder_inputs = Input(shape=(max_in_len, ), dtype='int32',)\n",
        "encoder_embedding = embedding(encoder_inputs)\n",
        "encoder_LSTM = LSTM(LATENT_DIM, return_state=True)\n",
        "encoder_outputs, state_h, state_c = encoder_LSTM(encoder_embedding)\n",
        "\n",
        "decoder_inputs = Input(shape=(max_out_len, ), dtype='int32',)\n",
        "decoder_embedding = embedding(decoder_inputs)\n",
        "decoder_LSTM = LSTM(LATENT_DIM_DECODER, return_state=True, return_sequences=True)\n",
        "decoder_outputs, _, _ = decoder_LSTM(decoder_embedding, initial_state=[state_h, state_c])\n",
        "\n",
        "outputs = TimeDistributed(Dense(18, activation='softmax'))(decoder_outputs)\n",
        "model = Model([encoder_inputs, decoder_inputs], outputs)"
      ],
      "execution_count": 41,
      "outputs": []
    },
    {
      "cell_type": "code",
      "metadata": {
        "id": "FwTkNKzEWzo9"
      },
      "source": [
        "def acc(y_train, pred):\n",
        "    targ = K.argmax(y_train, axis=-1)\n",
        "    pred = K.argmax(pred, axis=-1)\n",
        "    correct = K.cast(K.equal(targ, pred), dtype='float32')\n",
        "\n",
        "    mask = K.cast(K.greater(targ, 0), dtype='float32')\n",
        "    correctCount = K.sum(mask * correct)\n",
        "    totalCount = K.sum(mask)\n",
        "    return correctCount / totalCount\n",
        "\n",
        "def recall_m(y_true, y_pred):\n",
        "    true_positives = K.sum(K.round(K.clip(y_true * y_pred, 0, 1)))\n",
        "    possible_positives = K.sum(K.round(K.clip(y_true, 0, 1)))\n",
        "    recall = true_positives / (possible_positives + K.epsilon())\n",
        "    return recall\n",
        "\n",
        "def precision_m(y_true, y_pred):\n",
        "    true_positives = K.sum(K.round(K.clip(y_true * y_pred, 0, 1)))\n",
        "    predicted_positives = K.sum(K.round(K.clip(y_pred, 0, 1)))\n",
        "    precision = true_positives / (predicted_positives + K.epsilon())\n",
        "    return precision\n",
        "\n",
        "def f1_m(y_true, y_pred):\n",
        "    precision = precision_m(y_true, y_pred)\n",
        "    recall = recall_m(y_true, y_pred)\n",
        "    return 2*((precision*recall)/(precision+recall+K.epsilon()))"
      ],
      "execution_count": 42,
      "outputs": []
    },
    {
      "cell_type": "code",
      "metadata": {
        "colab": {
          "base_uri": "https://localhost:8080/"
        },
        "id": "KDZFQgW4Y9Qg",
        "outputId": "711a44a6-667f-4f81-bf9e-c786f393df37"
      },
      "source": [
        "model.compile(optimizer='adam', loss='categorical_crossentropy', metrics=[acc, recall_m, precision_m, f1_m])\n",
        "history = model.fit([words_seq_pad, tags_seq_pad],\n",
        "               man_target_one_hot,\n",
        "               batch_size=BATCHSIZE, \n",
        "               validation_split=0.3,\n",
        "               epochs=EPOCH)\n"
      ],
      "execution_count": 43,
      "outputs": [
        {
          "output_type": "stream",
          "text": [
            "Epoch 1/10\n",
            "525/525 [==============================] - 181s 335ms/step - loss: 0.0889 - acc: 0.9083 - recall_m: 0.8583 - precision_m: 0.5458 - f1_m: 0.5900 - val_loss: 0.0010 - val_acc: 0.9992 - val_recall_m: 0.9986 - val_precision_m: 0.2107 - val_f1_m: 0.3478\n",
            "Epoch 2/10\n",
            "525/525 [==============================] - 174s 331ms/step - loss: 7.6704e-04 - acc: 0.9996 - recall_m: 0.9988 - precision_m: 0.2106 - f1_m: 0.3477 - val_loss: 2.2396e-04 - val_acc: 0.9999 - val_recall_m: 0.9999 - val_precision_m: 0.2101 - val_f1_m: 0.3471\n",
            "Epoch 3/10\n",
            "525/525 [==============================] - 174s 332ms/step - loss: 1.7963e-04 - acc: 1.0000 - recall_m: 0.9999 - precision_m: 0.2103 - f1_m: 0.3475 - val_loss: 8.5454e-05 - val_acc: 1.0000 - val_recall_m: 1.0000 - val_precision_m: 0.2100 - val_f1_m: 0.3470\n",
            "Epoch 4/10\n",
            "525/525 [==============================] - 173s 329ms/step - loss: 7.5479e-05 - acc: 1.0000 - recall_m: 1.0000 - precision_m: 0.2107 - f1_m: 0.3480 - val_loss: 4.3663e-05 - val_acc: 1.0000 - val_recall_m: 1.0000 - val_precision_m: 0.2100 - val_f1_m: 0.3469\n",
            "Epoch 5/10\n",
            "525/525 [==============================] - 172s 328ms/step - loss: 4.1210e-05 - acc: 1.0000 - recall_m: 1.0000 - precision_m: 0.2105 - f1_m: 0.3476 - val_loss: 2.6174e-05 - val_acc: 1.0000 - val_recall_m: 1.0000 - val_precision_m: 0.2100 - val_f1_m: 0.3469\n",
            "Epoch 6/10\n",
            "525/525 [==============================] - 172s 328ms/step - loss: 2.4578e-05 - acc: 1.0000 - recall_m: 1.0000 - precision_m: 0.2099 - f1_m: 0.3469 - val_loss: 1.7018e-05 - val_acc: 1.0000 - val_recall_m: 1.0000 - val_precision_m: 0.2100 - val_f1_m: 0.3469\n",
            "Epoch 7/10\n",
            "525/525 [==============================] - 172s 328ms/step - loss: 1.5981e-05 - acc: 1.0000 - recall_m: 1.0000 - precision_m: 0.2106 - f1_m: 0.3478 - val_loss: 1.1638e-05 - val_acc: 1.0000 - val_recall_m: 1.0000 - val_precision_m: 0.2100 - val_f1_m: 0.3469\n",
            "Epoch 8/10\n",
            "525/525 [==============================] - 171s 327ms/step - loss: 1.1238e-05 - acc: 1.0000 - recall_m: 1.0000 - precision_m: 0.2104 - f1_m: 0.3475 - val_loss: 8.2266e-06 - val_acc: 1.0000 - val_recall_m: 1.0000 - val_precision_m: 0.2100 - val_f1_m: 0.3469\n",
            "Epoch 9/10\n",
            "525/525 [==============================] - 172s 327ms/step - loss: 7.8449e-06 - acc: 1.0000 - recall_m: 1.0000 - precision_m: 0.2098 - f1_m: 0.3467 - val_loss: 5.9351e-06 - val_acc: 1.0000 - val_recall_m: 1.0000 - val_precision_m: 0.2100 - val_f1_m: 0.3469\n",
            "Epoch 10/10\n",
            "525/525 [==============================] - 172s 327ms/step - loss: 5.7044e-06 - acc: 1.0000 - recall_m: 1.0000 - precision_m: 0.2104 - f1_m: 0.3475 - val_loss: 4.3441e-06 - val_acc: 1.0000 - val_recall_m: 1.0000 - val_precision_m: 0.2100 - val_f1_m: 0.3469\n"
          ],
          "name": "stdout"
        }
      ]
    },
    {
      "cell_type": "code",
      "metadata": {
        "id": "yjMM_rc_ZBQH",
        "colab": {
          "base_uri": "https://localhost:8080/",
          "height": 515
        },
        "outputId": "21645990-2ea5-4c3d-df4e-80ce17a50645"
      },
      "source": [
        "plt.plot(history.history['loss'], label='loss')\n",
        "plt.plot(history.history['val_loss'], label='val_loss')\n",
        "plt.legend()\n",
        "plt.show()\n",
        "\n",
        "plt.plot(history.history['val_acc'], label='val_acc')\n",
        "plt.plot(history.history['val_recall_m'], label='val_recall_m')\n",
        "plt.plot(history.history['val_precision_m'], label='val_precision_m')\n",
        "plt.plot(history.history['val_f1_m'], label='val_f1_m')\n",
        "plt.plot(history.history['acc'], label='acc')\n",
        "plt.plot(history.history['recall_m'], label='recall_m')\n",
        "plt.plot(history.history['precision_m'], label='precision_m')\n",
        "plt.plot(history.history['f1_m'], label='f1_m')\n",
        "plt.legend()\n",
        "plt.show()"
      ],
      "execution_count": 44,
      "outputs": [
        {
          "output_type": "display_data",
          "data": {
            "image/png": "[encoded data removed]",
            "text/plain": [
              "<Figure size 432x288 with 1 Axes>"
            ]
          },
          "metadata": {
            "tags": [],
            "needs_background": "light"
          }
        },
        {
          "output_type": "display_data",
          "data": {
            "image/png": "[encoded data removed]",
            "text/plain": [
              "<Figure size 432x288 with 1 Axes>"
            ]
          },
          "metadata": {
            "tags": [],
            "needs_background": "light"
          }
        }
      ]
    },
    {
      "cell_type": "code",
      "metadata": {
        "id": "kk5XMa6Vf2vF"
      },
      "source": [
        ""
      ],
      "execution_count": 44,
      "outputs": []
    }
  ]
}